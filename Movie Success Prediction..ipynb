{
  "nbformat": 4,
  "nbformat_minor": 0,
  "metadata": {
    "colab": {
      "provenance": [],
      "include_colab_link": true
    },
    "kernelspec": {
      "name": "python3",
      "display_name": "Python 3"
    },
    "language_info": {
      "name": "python"
    }
  },
  "cells": [
    {
      "cell_type": "markdown",
      "metadata": {
        "id": "view-in-github",
        "colab_type": "text"
      },
      "source": [
        "<a href=\"https://colab.research.google.com/github/prpal9122001/Movie-Success-Prediction-/blob/main/Movie%20Success%20Prediction..ipynb\" target=\"_parent\"><img src=\"https://colab.research.google.com/assets/colab-badge.svg\" alt=\"Open In Colab\"/></a>"
      ]
    },
    {
      "cell_type": "markdown",
      "source": [
        "\n",
        "\n",
        "# **MINOR PROJECT**\n",
        "---\n"
      ],
      "metadata": {
        "id": "mN3_o_1gdjos"
      }
    },
    {
      "cell_type": "markdown",
      "source": [
        "## **Movie Success Prediction**\n",
        "\n"
      ],
      "metadata": {
        "id": "Qzz4lHasS7Bn"
      }
    },
    {
      "cell_type": "markdown",
      "source": [
        "### **TASK 1** - Exploratory Data Analysis"
      ],
      "metadata": {
        "id": "OoyPsgypdnme"
      }
    },
    {
      "cell_type": "markdown",
      "source": [
        "**Import Libraries**"
      ],
      "metadata": {
        "id": "KCTMeXuqW6Yy"
      }
    },
    {
      "cell_type": "code",
      "execution_count": null,
      "metadata": {
        "id": "DwrVDauks3aW"
      },
      "outputs": [],
      "source": [
        "#importing required libraries\n",
        "import pandas as pd\n",
        "import numpy as np\n",
        "import seaborn as sns\n",
        "import matplotlib.pyplot as plt"
      ]
    },
    {
      "cell_type": "code",
      "source": [
        "#download the dataset https://www.kaggle.com/datasets/tmdb/tmdb-movie-metadata?select=tmdb_5000_movies.csv\n",
        "#from kaggle and upload into drive\n",
        "#after that mount your drive\n",
        "#read the data downloaded\n",
        "movies = pd.read_csv('/content/drive/MyDrive/minor project/project 1/tmdb_5000_movies.csv')\n",
        "credits = pd.read_csv('/content/drive/MyDrive/minor project/project 1/tmdb_5000_credits.csv')"
      ],
      "metadata": {
        "id": "0Xe8SV2sBjOv"
      },
      "execution_count": null,
      "outputs": []
    },
    {
      "cell_type": "code",
      "source": [
        "movies.head(5)"
      ],
      "metadata": {
        "id": "UyHbpC18g7wr",
        "colab": {
          "base_uri": "https://localhost:8080/",
          "height": 739
        },
        "outputId": "559874b0-804c-4219-a321-d81a439a325f"
      },
      "execution_count": null,
      "outputs": [
        {
          "output_type": "execute_result",
          "data": {
            "text/plain": [
              "      budget                                             genres  \\\n",
              "0  237000000  [{\"id\": 28, \"name\": \"Action\"}, {\"id\": 12, \"nam...   \n",
              "1  300000000  [{\"id\": 12, \"name\": \"Adventure\"}, {\"id\": 14, \"...   \n",
              "2  245000000  [{\"id\": 28, \"name\": \"Action\"}, {\"id\": 12, \"nam...   \n",
              "3  250000000  [{\"id\": 28, \"name\": \"Action\"}, {\"id\": 80, \"nam...   \n",
              "4  260000000  [{\"id\": 28, \"name\": \"Action\"}, {\"id\": 12, \"nam...   \n",
              "\n",
              "                                       homepage      id  \\\n",
              "0                   http://www.avatarmovie.com/   19995   \n",
              "1  http://disney.go.com/disneypictures/pirates/     285   \n",
              "2   http://www.sonypictures.com/movies/spectre/  206647   \n",
              "3            http://www.thedarkknightrises.com/   49026   \n",
              "4          http://movies.disney.com/john-carter   49529   \n",
              "\n",
              "                                            keywords original_language  \\\n",
              "0  [{\"id\": 1463, \"name\": \"culture clash\"}, {\"id\":...                en   \n",
              "1  [{\"id\": 270, \"name\": \"ocean\"}, {\"id\": 726, \"na...                en   \n",
              "2  [{\"id\": 470, \"name\": \"spy\"}, {\"id\": 818, \"name...                en   \n",
              "3  [{\"id\": 849, \"name\": \"dc comics\"}, {\"id\": 853,...                en   \n",
              "4  [{\"id\": 818, \"name\": \"based on novel\"}, {\"id\":...                en   \n",
              "\n",
              "                             original_title  \\\n",
              "0                                    Avatar   \n",
              "1  Pirates of the Caribbean: At World's End   \n",
              "2                                   Spectre   \n",
              "3                     The Dark Knight Rises   \n",
              "4                               John Carter   \n",
              "\n",
              "                                            overview  popularity  \\\n",
              "0  In the 22nd century, a paraplegic Marine is di...  150.437577   \n",
              "1  Captain Barbossa, long believed to be dead, ha...  139.082615   \n",
              "2  A cryptic message from Bond’s past sends him o...  107.376788   \n",
              "3  Following the death of District Attorney Harve...  112.312950   \n",
              "4  John Carter is a war-weary, former military ca...   43.926995   \n",
              "\n",
              "                                production_companies  \\\n",
              "0  [{\"name\": \"Ingenious Film Partners\", \"id\": 289...   \n",
              "1  [{\"name\": \"Walt Disney Pictures\", \"id\": 2}, {\"...   \n",
              "2  [{\"name\": \"Columbia Pictures\", \"id\": 5}, {\"nam...   \n",
              "3  [{\"name\": \"Legendary Pictures\", \"id\": 923}, {\"...   \n",
              "4        [{\"name\": \"Walt Disney Pictures\", \"id\": 2}]   \n",
              "\n",
              "                                production_countries release_date     revenue  \\\n",
              "0  [{\"iso_3166_1\": \"US\", \"name\": \"United States o...   2009-12-10  2787965087   \n",
              "1  [{\"iso_3166_1\": \"US\", \"name\": \"United States o...   2007-05-19   961000000   \n",
              "2  [{\"iso_3166_1\": \"GB\", \"name\": \"United Kingdom\"...   2015-10-26   880674609   \n",
              "3  [{\"iso_3166_1\": \"US\", \"name\": \"United States o...   2012-07-16  1084939099   \n",
              "4  [{\"iso_3166_1\": \"US\", \"name\": \"United States o...   2012-03-07   284139100   \n",
              "\n",
              "   runtime                                   spoken_languages    status  \\\n",
              "0    162.0  [{\"iso_639_1\": \"en\", \"name\": \"English\"}, {\"iso...  Released   \n",
              "1    169.0           [{\"iso_639_1\": \"en\", \"name\": \"English\"}]  Released   \n",
              "2    148.0  [{\"iso_639_1\": \"fr\", \"name\": \"Fran\\u00e7ais\"},...  Released   \n",
              "3    165.0           [{\"iso_639_1\": \"en\", \"name\": \"English\"}]  Released   \n",
              "4    132.0           [{\"iso_639_1\": \"en\", \"name\": \"English\"}]  Released   \n",
              "\n",
              "                                          tagline  \\\n",
              "0                     Enter the World of Pandora.   \n",
              "1  At the end of the world, the adventure begins.   \n",
              "2                           A Plan No One Escapes   \n",
              "3                                 The Legend Ends   \n",
              "4            Lost in our world, found in another.   \n",
              "\n",
              "                                      title  vote_average  vote_count  \n",
              "0                                    Avatar           7.2       11800  \n",
              "1  Pirates of the Caribbean: At World's End           6.9        4500  \n",
              "2                                   Spectre           6.3        4466  \n",
              "3                     The Dark Knight Rises           7.6        9106  \n",
              "4                               John Carter           6.1        2124  "
            ],
            "text/html": [
              "\n",
              "  <div id=\"df-4112d346-fb46-4a51-8a65-b061ce8f2172\">\n",
              "    <div class=\"colab-df-container\">\n",
              "      <div>\n",
              "<style scoped>\n",
              "    .dataframe tbody tr th:only-of-type {\n",
              "        vertical-align: middle;\n",
              "    }\n",
              "\n",
              "    .dataframe tbody tr th {\n",
              "        vertical-align: top;\n",
              "    }\n",
              "\n",
              "    .dataframe thead th {\n",
              "        text-align: right;\n",
              "    }\n",
              "</style>\n",
              "<table border=\"1\" class=\"dataframe\">\n",
              "  <thead>\n",
              "    <tr style=\"text-align: right;\">\n",
              "      <th></th>\n",
              "      <th>budget</th>\n",
              "      <th>genres</th>\n",
              "      <th>homepage</th>\n",
              "      <th>id</th>\n",
              "      <th>keywords</th>\n",
              "      <th>original_language</th>\n",
              "      <th>original_title</th>\n",
              "      <th>overview</th>\n",
              "      <th>popularity</th>\n",
              "      <th>production_companies</th>\n",
              "      <th>production_countries</th>\n",
              "      <th>release_date</th>\n",
              "      <th>revenue</th>\n",
              "      <th>runtime</th>\n",
              "      <th>spoken_languages</th>\n",
              "      <th>status</th>\n",
              "      <th>tagline</th>\n",
              "      <th>title</th>\n",
              "      <th>vote_average</th>\n",
              "      <th>vote_count</th>\n",
              "    </tr>\n",
              "  </thead>\n",
              "  <tbody>\n",
              "    <tr>\n",
              "      <th>0</th>\n",
              "      <td>237000000</td>\n",
              "      <td>[{\"id\": 28, \"name\": \"Action\"}, {\"id\": 12, \"nam...</td>\n",
              "      <td>http://www.avatarmovie.com/</td>\n",
              "      <td>19995</td>\n",
              "      <td>[{\"id\": 1463, \"name\": \"culture clash\"}, {\"id\":...</td>\n",
              "      <td>en</td>\n",
              "      <td>Avatar</td>\n",
              "      <td>In the 22nd century, a paraplegic Marine is di...</td>\n",
              "      <td>150.437577</td>\n",
              "      <td>[{\"name\": \"Ingenious Film Partners\", \"id\": 289...</td>\n",
              "      <td>[{\"iso_3166_1\": \"US\", \"name\": \"United States o...</td>\n",
              "      <td>2009-12-10</td>\n",
              "      <td>2787965087</td>\n",
              "      <td>162.0</td>\n",
              "      <td>[{\"iso_639_1\": \"en\", \"name\": \"English\"}, {\"iso...</td>\n",
              "      <td>Released</td>\n",
              "      <td>Enter the World of Pandora.</td>\n",
              "      <td>Avatar</td>\n",
              "      <td>7.2</td>\n",
              "      <td>11800</td>\n",
              "    </tr>\n",
              "    <tr>\n",
              "      <th>1</th>\n",
              "      <td>300000000</td>\n",
              "      <td>[{\"id\": 12, \"name\": \"Adventure\"}, {\"id\": 14, \"...</td>\n",
              "      <td>http://disney.go.com/disneypictures/pirates/</td>\n",
              "      <td>285</td>\n",
              "      <td>[{\"id\": 270, \"name\": \"ocean\"}, {\"id\": 726, \"na...</td>\n",
              "      <td>en</td>\n",
              "      <td>Pirates of the Caribbean: At World's End</td>\n",
              "      <td>Captain Barbossa, long believed to be dead, ha...</td>\n",
              "      <td>139.082615</td>\n",
              "      <td>[{\"name\": \"Walt Disney Pictures\", \"id\": 2}, {\"...</td>\n",
              "      <td>[{\"iso_3166_1\": \"US\", \"name\": \"United States o...</td>\n",
              "      <td>2007-05-19</td>\n",
              "      <td>961000000</td>\n",
              "      <td>169.0</td>\n",
              "      <td>[{\"iso_639_1\": \"en\", \"name\": \"English\"}]</td>\n",
              "      <td>Released</td>\n",
              "      <td>At the end of the world, the adventure begins.</td>\n",
              "      <td>Pirates of the Caribbean: At World's End</td>\n",
              "      <td>6.9</td>\n",
              "      <td>4500</td>\n",
              "    </tr>\n",
              "    <tr>\n",
              "      <th>2</th>\n",
              "      <td>245000000</td>\n",
              "      <td>[{\"id\": 28, \"name\": \"Action\"}, {\"id\": 12, \"nam...</td>\n",
              "      <td>http://www.sonypictures.com/movies/spectre/</td>\n",
              "      <td>206647</td>\n",
              "      <td>[{\"id\": 470, \"name\": \"spy\"}, {\"id\": 818, \"name...</td>\n",
              "      <td>en</td>\n",
              "      <td>Spectre</td>\n",
              "      <td>A cryptic message from Bond’s past sends him o...</td>\n",
              "      <td>107.376788</td>\n",
              "      <td>[{\"name\": \"Columbia Pictures\", \"id\": 5}, {\"nam...</td>\n",
              "      <td>[{\"iso_3166_1\": \"GB\", \"name\": \"United Kingdom\"...</td>\n",
              "      <td>2015-10-26</td>\n",
              "      <td>880674609</td>\n",
              "      <td>148.0</td>\n",
              "      <td>[{\"iso_639_1\": \"fr\", \"name\": \"Fran\\u00e7ais\"},...</td>\n",
              "      <td>Released</td>\n",
              "      <td>A Plan No One Escapes</td>\n",
              "      <td>Spectre</td>\n",
              "      <td>6.3</td>\n",
              "      <td>4466</td>\n",
              "    </tr>\n",
              "    <tr>\n",
              "      <th>3</th>\n",
              "      <td>250000000</td>\n",
              "      <td>[{\"id\": 28, \"name\": \"Action\"}, {\"id\": 80, \"nam...</td>\n",
              "      <td>http://www.thedarkknightrises.com/</td>\n",
              "      <td>49026</td>\n",
              "      <td>[{\"id\": 849, \"name\": \"dc comics\"}, {\"id\": 853,...</td>\n",
              "      <td>en</td>\n",
              "      <td>The Dark Knight Rises</td>\n",
              "      <td>Following the death of District Attorney Harve...</td>\n",
              "      <td>112.312950</td>\n",
              "      <td>[{\"name\": \"Legendary Pictures\", \"id\": 923}, {\"...</td>\n",
              "      <td>[{\"iso_3166_1\": \"US\", \"name\": \"United States o...</td>\n",
              "      <td>2012-07-16</td>\n",
              "      <td>1084939099</td>\n",
              "      <td>165.0</td>\n",
              "      <td>[{\"iso_639_1\": \"en\", \"name\": \"English\"}]</td>\n",
              "      <td>Released</td>\n",
              "      <td>The Legend Ends</td>\n",
              "      <td>The Dark Knight Rises</td>\n",
              "      <td>7.6</td>\n",
              "      <td>9106</td>\n",
              "    </tr>\n",
              "    <tr>\n",
              "      <th>4</th>\n",
              "      <td>260000000</td>\n",
              "      <td>[{\"id\": 28, \"name\": \"Action\"}, {\"id\": 12, \"nam...</td>\n",
              "      <td>http://movies.disney.com/john-carter</td>\n",
              "      <td>49529</td>\n",
              "      <td>[{\"id\": 818, \"name\": \"based on novel\"}, {\"id\":...</td>\n",
              "      <td>en</td>\n",
              "      <td>John Carter</td>\n",
              "      <td>John Carter is a war-weary, former military ca...</td>\n",
              "      <td>43.926995</td>\n",
              "      <td>[{\"name\": \"Walt Disney Pictures\", \"id\": 2}]</td>\n",
              "      <td>[{\"iso_3166_1\": \"US\", \"name\": \"United States o...</td>\n",
              "      <td>2012-03-07</td>\n",
              "      <td>284139100</td>\n",
              "      <td>132.0</td>\n",
              "      <td>[{\"iso_639_1\": \"en\", \"name\": \"English\"}]</td>\n",
              "      <td>Released</td>\n",
              "      <td>Lost in our world, found in another.</td>\n",
              "      <td>John Carter</td>\n",
              "      <td>6.1</td>\n",
              "      <td>2124</td>\n",
              "    </tr>\n",
              "  </tbody>\n",
              "</table>\n",
              "</div>\n",
              "      <button class=\"colab-df-convert\" onclick=\"convertToInteractive('df-4112d346-fb46-4a51-8a65-b061ce8f2172')\"\n",
              "              title=\"Convert this dataframe to an interactive table.\"\n",
              "              style=\"display:none;\">\n",
              "        \n",
              "  <svg xmlns=\"http://www.w3.org/2000/svg\" height=\"24px\"viewBox=\"0 0 24 24\"\n",
              "       width=\"24px\">\n",
              "    <path d=\"M0 0h24v24H0V0z\" fill=\"none\"/>\n",
              "    <path d=\"M18.56 5.44l.94 2.06.94-2.06 2.06-.94-2.06-.94-.94-2.06-.94 2.06-2.06.94zm-11 1L8.5 8.5l.94-2.06 2.06-.94-2.06-.94L8.5 2.5l-.94 2.06-2.06.94zm10 10l.94 2.06.94-2.06 2.06-.94-2.06-.94-.94-2.06-.94 2.06-2.06.94z\"/><path d=\"M17.41 7.96l-1.37-1.37c-.4-.4-.92-.59-1.43-.59-.52 0-1.04.2-1.43.59L10.3 9.45l-7.72 7.72c-.78.78-.78 2.05 0 2.83L4 21.41c.39.39.9.59 1.41.59.51 0 1.02-.2 1.41-.59l7.78-7.78 2.81-2.81c.8-.78.8-2.07 0-2.86zM5.41 20L4 18.59l7.72-7.72 1.47 1.35L5.41 20z\"/>\n",
              "  </svg>\n",
              "      </button>\n",
              "      \n",
              "  <style>\n",
              "    .colab-df-container {\n",
              "      display:flex;\n",
              "      flex-wrap:wrap;\n",
              "      gap: 12px;\n",
              "    }\n",
              "\n",
              "    .colab-df-convert {\n",
              "      background-color: #E8F0FE;\n",
              "      border: none;\n",
              "      border-radius: 50%;\n",
              "      cursor: pointer;\n",
              "      display: none;\n",
              "      fill: #1967D2;\n",
              "      height: 32px;\n",
              "      padding: 0 0 0 0;\n",
              "      width: 32px;\n",
              "    }\n",
              "\n",
              "    .colab-df-convert:hover {\n",
              "      background-color: #E2EBFA;\n",
              "      box-shadow: 0px 1px 2px rgba(60, 64, 67, 0.3), 0px 1px 3px 1px rgba(60, 64, 67, 0.15);\n",
              "      fill: #174EA6;\n",
              "    }\n",
              "\n",
              "    [theme=dark] .colab-df-convert {\n",
              "      background-color: #3B4455;\n",
              "      fill: #D2E3FC;\n",
              "    }\n",
              "\n",
              "    [theme=dark] .colab-df-convert:hover {\n",
              "      background-color: #434B5C;\n",
              "      box-shadow: 0px 1px 3px 1px rgba(0, 0, 0, 0.15);\n",
              "      filter: drop-shadow(0px 1px 2px rgba(0, 0, 0, 0.3));\n",
              "      fill: #FFFFFF;\n",
              "    }\n",
              "  </style>\n",
              "\n",
              "      <script>\n",
              "        const buttonEl =\n",
              "          document.querySelector('#df-4112d346-fb46-4a51-8a65-b061ce8f2172 button.colab-df-convert');\n",
              "        buttonEl.style.display =\n",
              "          google.colab.kernel.accessAllowed ? 'block' : 'none';\n",
              "\n",
              "        async function convertToInteractive(key) {\n",
              "          const element = document.querySelector('#df-4112d346-fb46-4a51-8a65-b061ce8f2172');\n",
              "          const dataTable =\n",
              "            await google.colab.kernel.invokeFunction('convertToInteractive',\n",
              "                                                     [key], {});\n",
              "          if (!dataTable) return;\n",
              "\n",
              "          const docLinkHtml = 'Like what you see? Visit the ' +\n",
              "            '<a target=\"_blank\" href=https://colab.research.google.com/notebooks/data_table.ipynb>data table notebook</a>'\n",
              "            + ' to learn more about interactive tables.';\n",
              "          element.innerHTML = '';\n",
              "          dataTable['output_type'] = 'display_data';\n",
              "          await google.colab.output.renderOutput(dataTable, element);\n",
              "          const docLink = document.createElement('div');\n",
              "          docLink.innerHTML = docLinkHtml;\n",
              "          element.appendChild(docLink);\n",
              "        }\n",
              "      </script>\n",
              "    </div>\n",
              "  </div>\n",
              "  "
            ]
          },
          "metadata": {},
          "execution_count": 1068
        }
      ]
    },
    {
      "cell_type": "markdown",
      "source": [
        "**Question 1**:Are there any inconsistent or incorrect data entries that need to be corrected or standardized?\n"
      ],
      "metadata": {
        "id": "UAG7ztxdW5iV"
      }
    },
    {
      "cell_type": "code",
      "source": [
        "movies.info()"
      ],
      "metadata": {
        "id": "djMd4_ldgNHD",
        "colab": {
          "base_uri": "https://localhost:8080/"
        },
        "outputId": "a2c7e7bc-630d-4787-cdbf-e94d633855d5"
      },
      "execution_count": null,
      "outputs": [
        {
          "output_type": "stream",
          "name": "stdout",
          "text": [
            "<class 'pandas.core.frame.DataFrame'>\n",
            "RangeIndex: 4803 entries, 0 to 4802\n",
            "Data columns (total 20 columns):\n",
            " #   Column                Non-Null Count  Dtype  \n",
            "---  ------                --------------  -----  \n",
            " 0   budget                4803 non-null   int64  \n",
            " 1   genres                4803 non-null   object \n",
            " 2   homepage              1712 non-null   object \n",
            " 3   id                    4803 non-null   int64  \n",
            " 4   keywords              4803 non-null   object \n",
            " 5   original_language     4803 non-null   object \n",
            " 6   original_title        4803 non-null   object \n",
            " 7   overview              4800 non-null   object \n",
            " 8   popularity            4803 non-null   float64\n",
            " 9   production_companies  4803 non-null   object \n",
            " 10  production_countries  4803 non-null   object \n",
            " 11  release_date          4802 non-null   object \n",
            " 12  revenue               4803 non-null   int64  \n",
            " 13  runtime               4801 non-null   float64\n",
            " 14  spoken_languages      4803 non-null   object \n",
            " 15  status                4803 non-null   object \n",
            " 16  tagline               3959 non-null   object \n",
            " 17  title                 4803 non-null   object \n",
            " 18  vote_average          4803 non-null   float64\n",
            " 19  vote_count            4803 non-null   int64  \n",
            "dtypes: float64(3), int64(4), object(13)\n",
            "memory usage: 750.6+ KB\n"
          ]
        }
      ]
    },
    {
      "cell_type": "markdown",
      "source": [
        "**`Drop rows which are not needed`**"
      ],
      "metadata": {
        "id": "Sv9huIkMBFzN"
      }
    },
    {
      "cell_type": "code",
      "source": [
        "#both isna and isnull are used to check for missing values\n",
        "movies.isna()"
      ],
      "metadata": {
        "id": "Im4SSiYlgV6x",
        "colab": {
          "base_uri": "https://localhost:8080/",
          "height": 488
        },
        "outputId": "95d745ee-ce73-4e09-c872-a2b2b6b6b0c5"
      },
      "execution_count": null,
      "outputs": [
        {
          "output_type": "execute_result",
          "data": {
            "text/plain": [
              "      budget  genres  homepage     id  keywords  original_language  \\\n",
              "0      False   False     False  False     False              False   \n",
              "1      False   False     False  False     False              False   \n",
              "2      False   False     False  False     False              False   \n",
              "3      False   False     False  False     False              False   \n",
              "4      False   False     False  False     False              False   \n",
              "...      ...     ...       ...    ...       ...                ...   \n",
              "4798   False   False      True  False     False              False   \n",
              "4799   False   False      True  False     False              False   \n",
              "4800   False   False     False  False     False              False   \n",
              "4801   False   False     False  False     False              False   \n",
              "4802   False   False      True  False     False              False   \n",
              "\n",
              "      original_title  overview  popularity  production_companies  \\\n",
              "0              False     False       False                 False   \n",
              "1              False     False       False                 False   \n",
              "2              False     False       False                 False   \n",
              "3              False     False       False                 False   \n",
              "4              False     False       False                 False   \n",
              "...              ...       ...         ...                   ...   \n",
              "4798           False     False       False                 False   \n",
              "4799           False     False       False                 False   \n",
              "4800           False     False       False                 False   \n",
              "4801           False     False       False                 False   \n",
              "4802           False     False       False                 False   \n",
              "\n",
              "      production_countries  release_date  revenue  runtime  spoken_languages  \\\n",
              "0                    False         False    False    False             False   \n",
              "1                    False         False    False    False             False   \n",
              "2                    False         False    False    False             False   \n",
              "3                    False         False    False    False             False   \n",
              "4                    False         False    False    False             False   \n",
              "...                    ...           ...      ...      ...               ...   \n",
              "4798                 False         False    False    False             False   \n",
              "4799                 False         False    False    False             False   \n",
              "4800                 False         False    False    False             False   \n",
              "4801                 False         False    False    False             False   \n",
              "4802                 False         False    False    False             False   \n",
              "\n",
              "      status  tagline  title  vote_average  vote_count  \n",
              "0      False    False  False         False       False  \n",
              "1      False    False  False         False       False  \n",
              "2      False    False  False         False       False  \n",
              "3      False    False  False         False       False  \n",
              "4      False    False  False         False       False  \n",
              "...      ...      ...    ...           ...         ...  \n",
              "4798   False    False  False         False       False  \n",
              "4799   False    False  False         False       False  \n",
              "4800   False     True  False         False       False  \n",
              "4801   False    False  False         False       False  \n",
              "4802   False     True  False         False       False  \n",
              "\n",
              "[4803 rows x 20 columns]"
            ],
            "text/html": [
              "\n",
              "  <div id=\"df-a06e596f-f187-462d-95b6-460eb1ac46de\">\n",
              "    <div class=\"colab-df-container\">\n",
              "      <div>\n",
              "<style scoped>\n",
              "    .dataframe tbody tr th:only-of-type {\n",
              "        vertical-align: middle;\n",
              "    }\n",
              "\n",
              "    .dataframe tbody tr th {\n",
              "        vertical-align: top;\n",
              "    }\n",
              "\n",
              "    .dataframe thead th {\n",
              "        text-align: right;\n",
              "    }\n",
              "</style>\n",
              "<table border=\"1\" class=\"dataframe\">\n",
              "  <thead>\n",
              "    <tr style=\"text-align: right;\">\n",
              "      <th></th>\n",
              "      <th>budget</th>\n",
              "      <th>genres</th>\n",
              "      <th>homepage</th>\n",
              "      <th>id</th>\n",
              "      <th>keywords</th>\n",
              "      <th>original_language</th>\n",
              "      <th>original_title</th>\n",
              "      <th>overview</th>\n",
              "      <th>popularity</th>\n",
              "      <th>production_companies</th>\n",
              "      <th>production_countries</th>\n",
              "      <th>release_date</th>\n",
              "      <th>revenue</th>\n",
              "      <th>runtime</th>\n",
              "      <th>spoken_languages</th>\n",
              "      <th>status</th>\n",
              "      <th>tagline</th>\n",
              "      <th>title</th>\n",
              "      <th>vote_average</th>\n",
              "      <th>vote_count</th>\n",
              "    </tr>\n",
              "  </thead>\n",
              "  <tbody>\n",
              "    <tr>\n",
              "      <th>0</th>\n",
              "      <td>False</td>\n",
              "      <td>False</td>\n",
              "      <td>False</td>\n",
              "      <td>False</td>\n",
              "      <td>False</td>\n",
              "      <td>False</td>\n",
              "      <td>False</td>\n",
              "      <td>False</td>\n",
              "      <td>False</td>\n",
              "      <td>False</td>\n",
              "      <td>False</td>\n",
              "      <td>False</td>\n",
              "      <td>False</td>\n",
              "      <td>False</td>\n",
              "      <td>False</td>\n",
              "      <td>False</td>\n",
              "      <td>False</td>\n",
              "      <td>False</td>\n",
              "      <td>False</td>\n",
              "      <td>False</td>\n",
              "    </tr>\n",
              "    <tr>\n",
              "      <th>1</th>\n",
              "      <td>False</td>\n",
              "      <td>False</td>\n",
              "      <td>False</td>\n",
              "      <td>False</td>\n",
              "      <td>False</td>\n",
              "      <td>False</td>\n",
              "      <td>False</td>\n",
              "      <td>False</td>\n",
              "      <td>False</td>\n",
              "      <td>False</td>\n",
              "      <td>False</td>\n",
              "      <td>False</td>\n",
              "      <td>False</td>\n",
              "      <td>False</td>\n",
              "      <td>False</td>\n",
              "      <td>False</td>\n",
              "      <td>False</td>\n",
              "      <td>False</td>\n",
              "      <td>False</td>\n",
              "      <td>False</td>\n",
              "    </tr>\n",
              "    <tr>\n",
              "      <th>2</th>\n",
              "      <td>False</td>\n",
              "      <td>False</td>\n",
              "      <td>False</td>\n",
              "      <td>False</td>\n",
              "      <td>False</td>\n",
              "      <td>False</td>\n",
              "      <td>False</td>\n",
              "      <td>False</td>\n",
              "      <td>False</td>\n",
              "      <td>False</td>\n",
              "      <td>False</td>\n",
              "      <td>False</td>\n",
              "      <td>False</td>\n",
              "      <td>False</td>\n",
              "      <td>False</td>\n",
              "      <td>False</td>\n",
              "      <td>False</td>\n",
              "      <td>False</td>\n",
              "      <td>False</td>\n",
              "      <td>False</td>\n",
              "    </tr>\n",
              "    <tr>\n",
              "      <th>3</th>\n",
              "      <td>False</td>\n",
              "      <td>False</td>\n",
              "      <td>False</td>\n",
              "      <td>False</td>\n",
              "      <td>False</td>\n",
              "      <td>False</td>\n",
              "      <td>False</td>\n",
              "      <td>False</td>\n",
              "      <td>False</td>\n",
              "      <td>False</td>\n",
              "      <td>False</td>\n",
              "      <td>False</td>\n",
              "      <td>False</td>\n",
              "      <td>False</td>\n",
              "      <td>False</td>\n",
              "      <td>False</td>\n",
              "      <td>False</td>\n",
              "      <td>False</td>\n",
              "      <td>False</td>\n",
              "      <td>False</td>\n",
              "    </tr>\n",
              "    <tr>\n",
              "      <th>4</th>\n",
              "      <td>False</td>\n",
              "      <td>False</td>\n",
              "      <td>False</td>\n",
              "      <td>False</td>\n",
              "      <td>False</td>\n",
              "      <td>False</td>\n",
              "      <td>False</td>\n",
              "      <td>False</td>\n",
              "      <td>False</td>\n",
              "      <td>False</td>\n",
              "      <td>False</td>\n",
              "      <td>False</td>\n",
              "      <td>False</td>\n",
              "      <td>False</td>\n",
              "      <td>False</td>\n",
              "      <td>False</td>\n",
              "      <td>False</td>\n",
              "      <td>False</td>\n",
              "      <td>False</td>\n",
              "      <td>False</td>\n",
              "    </tr>\n",
              "    <tr>\n",
              "      <th>...</th>\n",
              "      <td>...</td>\n",
              "      <td>...</td>\n",
              "      <td>...</td>\n",
              "      <td>...</td>\n",
              "      <td>...</td>\n",
              "      <td>...</td>\n",
              "      <td>...</td>\n",
              "      <td>...</td>\n",
              "      <td>...</td>\n",
              "      <td>...</td>\n",
              "      <td>...</td>\n",
              "      <td>...</td>\n",
              "      <td>...</td>\n",
              "      <td>...</td>\n",
              "      <td>...</td>\n",
              "      <td>...</td>\n",
              "      <td>...</td>\n",
              "      <td>...</td>\n",
              "      <td>...</td>\n",
              "      <td>...</td>\n",
              "    </tr>\n",
              "    <tr>\n",
              "      <th>4798</th>\n",
              "      <td>False</td>\n",
              "      <td>False</td>\n",
              "      <td>True</td>\n",
              "      <td>False</td>\n",
              "      <td>False</td>\n",
              "      <td>False</td>\n",
              "      <td>False</td>\n",
              "      <td>False</td>\n",
              "      <td>False</td>\n",
              "      <td>False</td>\n",
              "      <td>False</td>\n",
              "      <td>False</td>\n",
              "      <td>False</td>\n",
              "      <td>False</td>\n",
              "      <td>False</td>\n",
              "      <td>False</td>\n",
              "      <td>False</td>\n",
              "      <td>False</td>\n",
              "      <td>False</td>\n",
              "      <td>False</td>\n",
              "    </tr>\n",
              "    <tr>\n",
              "      <th>4799</th>\n",
              "      <td>False</td>\n",
              "      <td>False</td>\n",
              "      <td>True</td>\n",
              "      <td>False</td>\n",
              "      <td>False</td>\n",
              "      <td>False</td>\n",
              "      <td>False</td>\n",
              "      <td>False</td>\n",
              "      <td>False</td>\n",
              "      <td>False</td>\n",
              "      <td>False</td>\n",
              "      <td>False</td>\n",
              "      <td>False</td>\n",
              "      <td>False</td>\n",
              "      <td>False</td>\n",
              "      <td>False</td>\n",
              "      <td>False</td>\n",
              "      <td>False</td>\n",
              "      <td>False</td>\n",
              "      <td>False</td>\n",
              "    </tr>\n",
              "    <tr>\n",
              "      <th>4800</th>\n",
              "      <td>False</td>\n",
              "      <td>False</td>\n",
              "      <td>False</td>\n",
              "      <td>False</td>\n",
              "      <td>False</td>\n",
              "      <td>False</td>\n",
              "      <td>False</td>\n",
              "      <td>False</td>\n",
              "      <td>False</td>\n",
              "      <td>False</td>\n",
              "      <td>False</td>\n",
              "      <td>False</td>\n",
              "      <td>False</td>\n",
              "      <td>False</td>\n",
              "      <td>False</td>\n",
              "      <td>False</td>\n",
              "      <td>True</td>\n",
              "      <td>False</td>\n",
              "      <td>False</td>\n",
              "      <td>False</td>\n",
              "    </tr>\n",
              "    <tr>\n",
              "      <th>4801</th>\n",
              "      <td>False</td>\n",
              "      <td>False</td>\n",
              "      <td>False</td>\n",
              "      <td>False</td>\n",
              "      <td>False</td>\n",
              "      <td>False</td>\n",
              "      <td>False</td>\n",
              "      <td>False</td>\n",
              "      <td>False</td>\n",
              "      <td>False</td>\n",
              "      <td>False</td>\n",
              "      <td>False</td>\n",
              "      <td>False</td>\n",
              "      <td>False</td>\n",
              "      <td>False</td>\n",
              "      <td>False</td>\n",
              "      <td>False</td>\n",
              "      <td>False</td>\n",
              "      <td>False</td>\n",
              "      <td>False</td>\n",
              "    </tr>\n",
              "    <tr>\n",
              "      <th>4802</th>\n",
              "      <td>False</td>\n",
              "      <td>False</td>\n",
              "      <td>True</td>\n",
              "      <td>False</td>\n",
              "      <td>False</td>\n",
              "      <td>False</td>\n",
              "      <td>False</td>\n",
              "      <td>False</td>\n",
              "      <td>False</td>\n",
              "      <td>False</td>\n",
              "      <td>False</td>\n",
              "      <td>False</td>\n",
              "      <td>False</td>\n",
              "      <td>False</td>\n",
              "      <td>False</td>\n",
              "      <td>False</td>\n",
              "      <td>True</td>\n",
              "      <td>False</td>\n",
              "      <td>False</td>\n",
              "      <td>False</td>\n",
              "    </tr>\n",
              "  </tbody>\n",
              "</table>\n",
              "<p>4803 rows × 20 columns</p>\n",
              "</div>\n",
              "      <button class=\"colab-df-convert\" onclick=\"convertToInteractive('df-a06e596f-f187-462d-95b6-460eb1ac46de')\"\n",
              "              title=\"Convert this dataframe to an interactive table.\"\n",
              "              style=\"display:none;\">\n",
              "        \n",
              "  <svg xmlns=\"http://www.w3.org/2000/svg\" height=\"24px\"viewBox=\"0 0 24 24\"\n",
              "       width=\"24px\">\n",
              "    <path d=\"M0 0h24v24H0V0z\" fill=\"none\"/>\n",
              "    <path d=\"M18.56 5.44l.94 2.06.94-2.06 2.06-.94-2.06-.94-.94-2.06-.94 2.06-2.06.94zm-11 1L8.5 8.5l.94-2.06 2.06-.94-2.06-.94L8.5 2.5l-.94 2.06-2.06.94zm10 10l.94 2.06.94-2.06 2.06-.94-2.06-.94-.94-2.06-.94 2.06-2.06.94z\"/><path d=\"M17.41 7.96l-1.37-1.37c-.4-.4-.92-.59-1.43-.59-.52 0-1.04.2-1.43.59L10.3 9.45l-7.72 7.72c-.78.78-.78 2.05 0 2.83L4 21.41c.39.39.9.59 1.41.59.51 0 1.02-.2 1.41-.59l7.78-7.78 2.81-2.81c.8-.78.8-2.07 0-2.86zM5.41 20L4 18.59l7.72-7.72 1.47 1.35L5.41 20z\"/>\n",
              "  </svg>\n",
              "      </button>\n",
              "      \n",
              "  <style>\n",
              "    .colab-df-container {\n",
              "      display:flex;\n",
              "      flex-wrap:wrap;\n",
              "      gap: 12px;\n",
              "    }\n",
              "\n",
              "    .colab-df-convert {\n",
              "      background-color: #E8F0FE;\n",
              "      border: none;\n",
              "      border-radius: 50%;\n",
              "      cursor: pointer;\n",
              "      display: none;\n",
              "      fill: #1967D2;\n",
              "      height: 32px;\n",
              "      padding: 0 0 0 0;\n",
              "      width: 32px;\n",
              "    }\n",
              "\n",
              "    .colab-df-convert:hover {\n",
              "      background-color: #E2EBFA;\n",
              "      box-shadow: 0px 1px 2px rgba(60, 64, 67, 0.3), 0px 1px 3px 1px rgba(60, 64, 67, 0.15);\n",
              "      fill: #174EA6;\n",
              "    }\n",
              "\n",
              "    [theme=dark] .colab-df-convert {\n",
              "      background-color: #3B4455;\n",
              "      fill: #D2E3FC;\n",
              "    }\n",
              "\n",
              "    [theme=dark] .colab-df-convert:hover {\n",
              "      background-color: #434B5C;\n",
              "      box-shadow: 0px 1px 3px 1px rgba(0, 0, 0, 0.15);\n",
              "      filter: drop-shadow(0px 1px 2px rgba(0, 0, 0, 0.3));\n",
              "      fill: #FFFFFF;\n",
              "    }\n",
              "  </style>\n",
              "\n",
              "      <script>\n",
              "        const buttonEl =\n",
              "          document.querySelector('#df-a06e596f-f187-462d-95b6-460eb1ac46de button.colab-df-convert');\n",
              "        buttonEl.style.display =\n",
              "          google.colab.kernel.accessAllowed ? 'block' : 'none';\n",
              "\n",
              "        async function convertToInteractive(key) {\n",
              "          const element = document.querySelector('#df-a06e596f-f187-462d-95b6-460eb1ac46de');\n",
              "          const dataTable =\n",
              "            await google.colab.kernel.invokeFunction('convertToInteractive',\n",
              "                                                     [key], {});\n",
              "          if (!dataTable) return;\n",
              "\n",
              "          const docLinkHtml = 'Like what you see? Visit the ' +\n",
              "            '<a target=\"_blank\" href=https://colab.research.google.com/notebooks/data_table.ipynb>data table notebook</a>'\n",
              "            + ' to learn more about interactive tables.';\n",
              "          element.innerHTML = '';\n",
              "          dataTable['output_type'] = 'display_data';\n",
              "          await google.colab.output.renderOutput(dataTable, element);\n",
              "          const docLink = document.createElement('div');\n",
              "          docLink.innerHTML = docLinkHtml;\n",
              "          element.appendChild(docLink);\n",
              "        }\n",
              "      </script>\n",
              "    </div>\n",
              "  </div>\n",
              "  "
            ]
          },
          "metadata": {},
          "execution_count": 1070
        }
      ]
    },
    {
      "cell_type": "code",
      "source": [
        "#as we can see there are some NaN values in the data\n",
        "movies.isnull().sum()"
      ],
      "metadata": {
        "colab": {
          "base_uri": "https://localhost:8080/"
        },
        "outputId": "6d3fa517-5bac-4bb6-999a-eabaa0146506",
        "id": "uC-rLBXdZMpr"
      },
      "execution_count": null,
      "outputs": [
        {
          "output_type": "execute_result",
          "data": {
            "text/plain": [
              "budget                     0\n",
              "genres                     0\n",
              "homepage                3091\n",
              "id                         0\n",
              "keywords                   0\n",
              "original_language          0\n",
              "original_title             0\n",
              "overview                   3\n",
              "popularity                 0\n",
              "production_companies       0\n",
              "production_countries       0\n",
              "release_date               1\n",
              "revenue                    0\n",
              "runtime                    2\n",
              "spoken_languages           0\n",
              "status                     0\n",
              "tagline                  844\n",
              "title                      0\n",
              "vote_average               0\n",
              "vote_count                 0\n",
              "dtype: int64"
            ]
          },
          "metadata": {},
          "execution_count": 1071
        }
      ]
    },
    {
      "cell_type": "code",
      "source": [
        "#fill all nan values with 1\n",
        "movies.fillna(1, inplace=True)"
      ],
      "metadata": {
        "id": "VKWQLaM-ZMps"
      },
      "execution_count": null,
      "outputs": []
    },
    {
      "cell_type": "code",
      "source": [
        "#check if null values are filled\n",
        "movies.isnull().sum()"
      ],
      "metadata": {
        "colab": {
          "base_uri": "https://localhost:8080/"
        },
        "id": "xdqTew-IZ9Fj",
        "outputId": "7d94a375-17a5-4a9a-bd62-090af16dfbfa"
      },
      "execution_count": null,
      "outputs": [
        {
          "output_type": "execute_result",
          "data": {
            "text/plain": [
              "budget                  0\n",
              "genres                  0\n",
              "homepage                0\n",
              "id                      0\n",
              "keywords                0\n",
              "original_language       0\n",
              "original_title          0\n",
              "overview                0\n",
              "popularity              0\n",
              "production_companies    0\n",
              "production_countries    0\n",
              "release_date            0\n",
              "revenue                 0\n",
              "runtime                 0\n",
              "spoken_languages        0\n",
              "status                  0\n",
              "tagline                 0\n",
              "title                   0\n",
              "vote_average            0\n",
              "vote_count              0\n",
              "dtype: int64"
            ]
          },
          "metadata": {},
          "execution_count": 1073
        }
      ]
    },
    {
      "cell_type": "code",
      "source": [
        "#calculate the median budget of movies in the dataset\n",
        "median_budget = movies[movies['budget'] > 0]['budget'].median()\n",
        "median_budget"
      ],
      "metadata": {
        "colab": {
          "base_uri": "https://localhost:8080/"
        },
        "outputId": "acece1c0-083b-410d-b55e-164e584c706c",
        "id": "eop_aYtSCrnM"
      },
      "execution_count": null,
      "outputs": [
        {
          "output_type": "execute_result",
          "data": {
            "text/plain": [
              "23000000.0"
            ]
          },
          "metadata": {},
          "execution_count": 1074
        }
      ]
    },
    {
      "cell_type": "code",
      "source": [
        "#put that value of median to fill in place of the missing data in budget\n",
        "movies.loc[movies['budget'] == 0, 'budget'] = median_budget"
      ],
      "metadata": {
        "id": "SqskP5dzCrnM"
      },
      "execution_count": null,
      "outputs": []
    },
    {
      "cell_type": "markdown",
      "source": [
        "**Data Type**"
      ],
      "metadata": {
        "id": "gnPYf8nVA9yM"
      }
    },
    {
      "cell_type": "code",
      "source": [
        "# Check for inconsistent data types\n",
        "data_types = movies.dtypes\n",
        "data_types"
      ],
      "metadata": {
        "colab": {
          "base_uri": "https://localhost:8080/"
        },
        "id": "5W-iw2eLP92i",
        "outputId": "e8065255-a358-4bc2-afee-88494ced9d8a"
      },
      "execution_count": null,
      "outputs": [
        {
          "output_type": "execute_result",
          "data": {
            "text/plain": [
              "budget                    int64\n",
              "genres                   object\n",
              "homepage                 object\n",
              "id                        int64\n",
              "keywords                 object\n",
              "original_language        object\n",
              "original_title           object\n",
              "overview                 object\n",
              "popularity              float64\n",
              "production_companies     object\n",
              "production_countries     object\n",
              "release_date             object\n",
              "revenue                   int64\n",
              "runtime                 float64\n",
              "spoken_languages         object\n",
              "status                   object\n",
              "tagline                  object\n",
              "title                    object\n",
              "vote_average            float64\n",
              "vote_count                int64\n",
              "dtype: object"
            ]
          },
          "metadata": {},
          "execution_count": 1076
        }
      ]
    },
    {
      "cell_type": "code",
      "source": [
        "#we are converting datatype of runtime to float inorder to do the correlations later\n",
        "movies['runtime'] = movies['runtime'].astype(float)\n",
        "movies['runtime']"
      ],
      "metadata": {
        "id": "lPRZMbSwP92j",
        "colab": {
          "base_uri": "https://localhost:8080/"
        },
        "outputId": "f4870142-cbb9-48f3-8efa-543c02cf7bef"
      },
      "execution_count": null,
      "outputs": [
        {
          "output_type": "execute_result",
          "data": {
            "text/plain": [
              "0       162.0\n",
              "1       169.0\n",
              "2       148.0\n",
              "3       165.0\n",
              "4       132.0\n",
              "        ...  \n",
              "4798     81.0\n",
              "4799     85.0\n",
              "4800    120.0\n",
              "4801     98.0\n",
              "4802     90.0\n",
              "Name: runtime, Length: 4803, dtype: float64"
            ]
          },
          "metadata": {},
          "execution_count": 1077
        }
      ]
    },
    {
      "cell_type": "markdown",
      "source": [
        "We are calculating and changing the runtime now because it was not feasible to calculate it earlier. This is because we needed to change the datatype to float to determine the median and fill in the NaN values of runtime with it."
      ],
      "metadata": {
        "id": "fm_xPHiTCjRK"
      }
    },
    {
      "cell_type": "code",
      "source": [
        "#calculate the median runtime of movies in the dataset\n",
        "median_runtime = movies[movies['runtime'] > 0]['runtime'].median()\n",
        "median_runtime"
      ],
      "metadata": {
        "colab": {
          "base_uri": "https://localhost:8080/"
        },
        "outputId": "a1fde2aa-afdc-43bc-cdac-64516eedca06",
        "id": "T1zypTnWCrnL"
      },
      "execution_count": null,
      "outputs": [
        {
          "output_type": "execute_result",
          "data": {
            "text/plain": [
              "104.0"
            ]
          },
          "metadata": {},
          "execution_count": 1078
        }
      ]
    },
    {
      "cell_type": "code",
      "source": [
        "#put that value of median to fill in place of the missing data in runtime\n",
        "movies.loc[movies['runtime'] == 0, 'runtime'] = median_runtime"
      ],
      "metadata": {
        "id": "aQBN052ICrnM"
      },
      "execution_count": null,
      "outputs": []
    },
    {
      "cell_type": "markdown",
      "source": [
        "**Checking for incorrect data**"
      ],
      "metadata": {
        "id": "8-YfXtOWDL7w"
      }
    },
    {
      "cell_type": "code",
      "source": [
        "#so we can say that there is no disperancy in regards to revenue collected by the movies\n",
        "incorrect_data = movies[(movies['revenue'] < 0)]\n",
        "incorrect_data"
      ],
      "metadata": {
        "id": "mRsM-N6iIRNT",
        "colab": {
          "base_uri": "https://localhost:8080/",
          "height": 113
        },
        "outputId": "6c53f38d-871b-4c7e-d74f-a3fb0cfa1157"
      },
      "execution_count": null,
      "outputs": [
        {
          "output_type": "execute_result",
          "data": {
            "text/plain": [
              "Empty DataFrame\n",
              "Columns: [budget, genres, homepage, id, keywords, original_language, original_title, overview, popularity, production_companies, production_countries, release_date, revenue, runtime, spoken_languages, status, tagline, title, vote_average, vote_count]\n",
              "Index: []"
            ],
            "text/html": [
              "\n",
              "  <div id=\"df-86abb400-8cf7-43b2-bdaa-dfd209c6be58\">\n",
              "    <div class=\"colab-df-container\">\n",
              "      <div>\n",
              "<style scoped>\n",
              "    .dataframe tbody tr th:only-of-type {\n",
              "        vertical-align: middle;\n",
              "    }\n",
              "\n",
              "    .dataframe tbody tr th {\n",
              "        vertical-align: top;\n",
              "    }\n",
              "\n",
              "    .dataframe thead th {\n",
              "        text-align: right;\n",
              "    }\n",
              "</style>\n",
              "<table border=\"1\" class=\"dataframe\">\n",
              "  <thead>\n",
              "    <tr style=\"text-align: right;\">\n",
              "      <th></th>\n",
              "      <th>budget</th>\n",
              "      <th>genres</th>\n",
              "      <th>homepage</th>\n",
              "      <th>id</th>\n",
              "      <th>keywords</th>\n",
              "      <th>original_language</th>\n",
              "      <th>original_title</th>\n",
              "      <th>overview</th>\n",
              "      <th>popularity</th>\n",
              "      <th>production_companies</th>\n",
              "      <th>production_countries</th>\n",
              "      <th>release_date</th>\n",
              "      <th>revenue</th>\n",
              "      <th>runtime</th>\n",
              "      <th>spoken_languages</th>\n",
              "      <th>status</th>\n",
              "      <th>tagline</th>\n",
              "      <th>title</th>\n",
              "      <th>vote_average</th>\n",
              "      <th>vote_count</th>\n",
              "    </tr>\n",
              "  </thead>\n",
              "  <tbody>\n",
              "  </tbody>\n",
              "</table>\n",
              "</div>\n",
              "      <button class=\"colab-df-convert\" onclick=\"convertToInteractive('df-86abb400-8cf7-43b2-bdaa-dfd209c6be58')\"\n",
              "              title=\"Convert this dataframe to an interactive table.\"\n",
              "              style=\"display:none;\">\n",
              "        \n",
              "  <svg xmlns=\"http://www.w3.org/2000/svg\" height=\"24px\"viewBox=\"0 0 24 24\"\n",
              "       width=\"24px\">\n",
              "    <path d=\"M0 0h24v24H0V0z\" fill=\"none\"/>\n",
              "    <path d=\"M18.56 5.44l.94 2.06.94-2.06 2.06-.94-2.06-.94-.94-2.06-.94 2.06-2.06.94zm-11 1L8.5 8.5l.94-2.06 2.06-.94-2.06-.94L8.5 2.5l-.94 2.06-2.06.94zm10 10l.94 2.06.94-2.06 2.06-.94-2.06-.94-.94-2.06-.94 2.06-2.06.94z\"/><path d=\"M17.41 7.96l-1.37-1.37c-.4-.4-.92-.59-1.43-.59-.52 0-1.04.2-1.43.59L10.3 9.45l-7.72 7.72c-.78.78-.78 2.05 0 2.83L4 21.41c.39.39.9.59 1.41.59.51 0 1.02-.2 1.41-.59l7.78-7.78 2.81-2.81c.8-.78.8-2.07 0-2.86zM5.41 20L4 18.59l7.72-7.72 1.47 1.35L5.41 20z\"/>\n",
              "  </svg>\n",
              "      </button>\n",
              "      \n",
              "  <style>\n",
              "    .colab-df-container {\n",
              "      display:flex;\n",
              "      flex-wrap:wrap;\n",
              "      gap: 12px;\n",
              "    }\n",
              "\n",
              "    .colab-df-convert {\n",
              "      background-color: #E8F0FE;\n",
              "      border: none;\n",
              "      border-radius: 50%;\n",
              "      cursor: pointer;\n",
              "      display: none;\n",
              "      fill: #1967D2;\n",
              "      height: 32px;\n",
              "      padding: 0 0 0 0;\n",
              "      width: 32px;\n",
              "    }\n",
              "\n",
              "    .colab-df-convert:hover {\n",
              "      background-color: #E2EBFA;\n",
              "      box-shadow: 0px 1px 2px rgba(60, 64, 67, 0.3), 0px 1px 3px 1px rgba(60, 64, 67, 0.15);\n",
              "      fill: #174EA6;\n",
              "    }\n",
              "\n",
              "    [theme=dark] .colab-df-convert {\n",
              "      background-color: #3B4455;\n",
              "      fill: #D2E3FC;\n",
              "    }\n",
              "\n",
              "    [theme=dark] .colab-df-convert:hover {\n",
              "      background-color: #434B5C;\n",
              "      box-shadow: 0px 1px 3px 1px rgba(0, 0, 0, 0.15);\n",
              "      filter: drop-shadow(0px 1px 2px rgba(0, 0, 0, 0.3));\n",
              "      fill: #FFFFFF;\n",
              "    }\n",
              "  </style>\n",
              "\n",
              "      <script>\n",
              "        const buttonEl =\n",
              "          document.querySelector('#df-86abb400-8cf7-43b2-bdaa-dfd209c6be58 button.colab-df-convert');\n",
              "        buttonEl.style.display =\n",
              "          google.colab.kernel.accessAllowed ? 'block' : 'none';\n",
              "\n",
              "        async function convertToInteractive(key) {\n",
              "          const element = document.querySelector('#df-86abb400-8cf7-43b2-bdaa-dfd209c6be58');\n",
              "          const dataTable =\n",
              "            await google.colab.kernel.invokeFunction('convertToInteractive',\n",
              "                                                     [key], {});\n",
              "          if (!dataTable) return;\n",
              "\n",
              "          const docLinkHtml = 'Like what you see? Visit the ' +\n",
              "            '<a target=\"_blank\" href=https://colab.research.google.com/notebooks/data_table.ipynb>data table notebook</a>'\n",
              "            + ' to learn more about interactive tables.';\n",
              "          element.innerHTML = '';\n",
              "          dataTable['output_type'] = 'display_data';\n",
              "          await google.colab.output.renderOutput(dataTable, element);\n",
              "          const docLink = document.createElement('div');\n",
              "          docLink.innerHTML = docLinkHtml;\n",
              "          element.appendChild(docLink);\n",
              "        }\n",
              "      </script>\n",
              "    </div>\n",
              "  </div>\n",
              "  "
            ]
          },
          "metadata": {},
          "execution_count": 1080
        }
      ]
    },
    {
      "cell_type": "code",
      "source": [
        "#'budget' column should not have negative values\n",
        "negative_budgets = movies[movies['budget'] < 0]\n",
        "negative_budgets[['title', 'budget']]\n",
        "#this result shows there are no negative value in budget"
      ],
      "metadata": {
        "colab": {
          "base_uri": "https://localhost:8080/",
          "height": 49
        },
        "id": "g8q3Hu_Uw3gl",
        "outputId": "595e7f5d-2fef-44b9-9c00-ca5dbb2fd3f4"
      },
      "execution_count": null,
      "outputs": [
        {
          "output_type": "execute_result",
          "data": {
            "text/plain": [
              "Empty DataFrame\n",
              "Columns: [title, budget]\n",
              "Index: []"
            ],
            "text/html": [
              "\n",
              "  <div id=\"df-3692b90a-e258-402c-a8cc-f60d5607fe1f\">\n",
              "    <div class=\"colab-df-container\">\n",
              "      <div>\n",
              "<style scoped>\n",
              "    .dataframe tbody tr th:only-of-type {\n",
              "        vertical-align: middle;\n",
              "    }\n",
              "\n",
              "    .dataframe tbody tr th {\n",
              "        vertical-align: top;\n",
              "    }\n",
              "\n",
              "    .dataframe thead th {\n",
              "        text-align: right;\n",
              "    }\n",
              "</style>\n",
              "<table border=\"1\" class=\"dataframe\">\n",
              "  <thead>\n",
              "    <tr style=\"text-align: right;\">\n",
              "      <th></th>\n",
              "      <th>title</th>\n",
              "      <th>budget</th>\n",
              "    </tr>\n",
              "  </thead>\n",
              "  <tbody>\n",
              "  </tbody>\n",
              "</table>\n",
              "</div>\n",
              "      <button class=\"colab-df-convert\" onclick=\"convertToInteractive('df-3692b90a-e258-402c-a8cc-f60d5607fe1f')\"\n",
              "              title=\"Convert this dataframe to an interactive table.\"\n",
              "              style=\"display:none;\">\n",
              "        \n",
              "  <svg xmlns=\"http://www.w3.org/2000/svg\" height=\"24px\"viewBox=\"0 0 24 24\"\n",
              "       width=\"24px\">\n",
              "    <path d=\"M0 0h24v24H0V0z\" fill=\"none\"/>\n",
              "    <path d=\"M18.56 5.44l.94 2.06.94-2.06 2.06-.94-2.06-.94-.94-2.06-.94 2.06-2.06.94zm-11 1L8.5 8.5l.94-2.06 2.06-.94-2.06-.94L8.5 2.5l-.94 2.06-2.06.94zm10 10l.94 2.06.94-2.06 2.06-.94-2.06-.94-.94-2.06-.94 2.06-2.06.94z\"/><path d=\"M17.41 7.96l-1.37-1.37c-.4-.4-.92-.59-1.43-.59-.52 0-1.04.2-1.43.59L10.3 9.45l-7.72 7.72c-.78.78-.78 2.05 0 2.83L4 21.41c.39.39.9.59 1.41.59.51 0 1.02-.2 1.41-.59l7.78-7.78 2.81-2.81c.8-.78.8-2.07 0-2.86zM5.41 20L4 18.59l7.72-7.72 1.47 1.35L5.41 20z\"/>\n",
              "  </svg>\n",
              "      </button>\n",
              "      \n",
              "  <style>\n",
              "    .colab-df-container {\n",
              "      display:flex;\n",
              "      flex-wrap:wrap;\n",
              "      gap: 12px;\n",
              "    }\n",
              "\n",
              "    .colab-df-convert {\n",
              "      background-color: #E8F0FE;\n",
              "      border: none;\n",
              "      border-radius: 50%;\n",
              "      cursor: pointer;\n",
              "      display: none;\n",
              "      fill: #1967D2;\n",
              "      height: 32px;\n",
              "      padding: 0 0 0 0;\n",
              "      width: 32px;\n",
              "    }\n",
              "\n",
              "    .colab-df-convert:hover {\n",
              "      background-color: #E2EBFA;\n",
              "      box-shadow: 0px 1px 2px rgba(60, 64, 67, 0.3), 0px 1px 3px 1px rgba(60, 64, 67, 0.15);\n",
              "      fill: #174EA6;\n",
              "    }\n",
              "\n",
              "    [theme=dark] .colab-df-convert {\n",
              "      background-color: #3B4455;\n",
              "      fill: #D2E3FC;\n",
              "    }\n",
              "\n",
              "    [theme=dark] .colab-df-convert:hover {\n",
              "      background-color: #434B5C;\n",
              "      box-shadow: 0px 1px 3px 1px rgba(0, 0, 0, 0.15);\n",
              "      filter: drop-shadow(0px 1px 2px rgba(0, 0, 0, 0.3));\n",
              "      fill: #FFFFFF;\n",
              "    }\n",
              "  </style>\n",
              "\n",
              "      <script>\n",
              "        const buttonEl =\n",
              "          document.querySelector('#df-3692b90a-e258-402c-a8cc-f60d5607fe1f button.colab-df-convert');\n",
              "        buttonEl.style.display =\n",
              "          google.colab.kernel.accessAllowed ? 'block' : 'none';\n",
              "\n",
              "        async function convertToInteractive(key) {\n",
              "          const element = document.querySelector('#df-3692b90a-e258-402c-a8cc-f60d5607fe1f');\n",
              "          const dataTable =\n",
              "            await google.colab.kernel.invokeFunction('convertToInteractive',\n",
              "                                                     [key], {});\n",
              "          if (!dataTable) return;\n",
              "\n",
              "          const docLinkHtml = 'Like what you see? Visit the ' +\n",
              "            '<a target=\"_blank\" href=https://colab.research.google.com/notebooks/data_table.ipynb>data table notebook</a>'\n",
              "            + ' to learn more about interactive tables.';\n",
              "          element.innerHTML = '';\n",
              "          dataTable['output_type'] = 'display_data';\n",
              "          await google.colab.output.renderOutput(dataTable, element);\n",
              "          const docLink = document.createElement('div');\n",
              "          docLink.innerHTML = docLinkHtml;\n",
              "          element.appendChild(docLink);\n",
              "        }\n",
              "      </script>\n",
              "    </div>\n",
              "  </div>\n",
              "  "
            ]
          },
          "metadata": {},
          "execution_count": 1081
        }
      ]
    },
    {
      "cell_type": "code",
      "source": [
        "movies.columns"
      ],
      "metadata": {
        "colab": {
          "base_uri": "https://localhost:8080/"
        },
        "id": "5AFNumDKjNAu",
        "outputId": "274f4c39-2401-45ed-c958-220bb18c5058"
      },
      "execution_count": null,
      "outputs": [
        {
          "output_type": "execute_result",
          "data": {
            "text/plain": [
              "Index(['budget', 'genres', 'homepage', 'id', 'keywords', 'original_language',\n",
              "       'original_title', 'overview', 'popularity', 'production_companies',\n",
              "       'production_countries', 'release_date', 'revenue', 'runtime',\n",
              "       'spoken_languages', 'status', 'tagline', 'title', 'vote_average',\n",
              "       'vote_count'],\n",
              "      dtype='object')"
            ]
          },
          "metadata": {},
          "execution_count": 1082
        }
      ]
    },
    {
      "cell_type": "markdown",
      "source": [
        "**Checking for duplicates**"
      ],
      "metadata": {
        "id": "3PqFXgCcDRGD"
      }
    },
    {
      "cell_type": "code",
      "source": [
        "#check if there is any duplicated data in the dataset\n",
        "duplicates = movies.duplicated('original_title').sum()\n",
        "duplicates"
      ],
      "metadata": {
        "colab": {
          "base_uri": "https://localhost:8080/"
        },
        "id": "Sp_rg_6Emx9D",
        "outputId": "1f4f2150-e215-4c91-e370-ac1b350c7431"
      },
      "execution_count": null,
      "outputs": [
        {
          "output_type": "execute_result",
          "data": {
            "text/plain": [
              "2"
            ]
          },
          "metadata": {},
          "execution_count": 1083
        }
      ]
    },
    {
      "cell_type": "code",
      "source": [
        "#Only the first occurrence of each unique 'title' will be kept, and all subsequent duplicate rows will be dropped from the movies\n",
        "movies.drop_duplicates(subset=['original_title'], keep='first', inplace=True)"
      ],
      "metadata": {
        "id": "XUtYhmYkiFKT"
      },
      "execution_count": null,
      "outputs": []
    },
    {
      "cell_type": "code",
      "source": [
        "duplicates1 = movies.duplicated('title').sum()\n",
        "duplicates1"
      ],
      "metadata": {
        "id": "gbz9m9kskQHd",
        "colab": {
          "base_uri": "https://localhost:8080/"
        },
        "outputId": "40aa3c50-7f8c-4dc8-b15c-03eac2428014"
      },
      "execution_count": null,
      "outputs": [
        {
          "output_type": "execute_result",
          "data": {
            "text/plain": [
              "1"
            ]
          },
          "metadata": {},
          "execution_count": 1085
        }
      ]
    },
    {
      "cell_type": "code",
      "source": [
        "#drop the duplicated values in title colomn\n",
        "movies.drop_duplicates(subset=['title'], keep='first', inplace=True)"
      ],
      "metadata": {
        "id": "FybqEoY2jvdK"
      },
      "execution_count": null,
      "outputs": []
    },
    {
      "cell_type": "markdown",
      "source": [
        "**Check for unique values**"
      ],
      "metadata": {
        "id": "EL16vgDpDXZV"
      }
    },
    {
      "cell_type": "code",
      "source": [
        "# Check for unique values in specific columns\n",
        "unique_values = movies['revenue'].unique()\n",
        "unique_values"
      ],
      "metadata": {
        "id": "Lp5FmdtOlCdH",
        "colab": {
          "base_uri": "https://localhost:8080/"
        },
        "outputId": "7831532e-5060-4e1f-de47-1fef57acdc90"
      },
      "execution_count": null,
      "outputs": [
        {
          "output_type": "execute_result",
          "data": {
            "text/plain": [
              "array([2787965087,  961000000,  880674609, ...,      99000,     424760,\n",
              "          2040920])"
            ]
          },
          "metadata": {},
          "execution_count": 1087
        }
      ]
    },
    {
      "cell_type": "markdown",
      "source": [
        "**Summary:** All missing values were replaced with '0' except runtime and budget which is then replaced by their medians respectively and the runtime data type was converted to float to enable correlation analysis in subsequent steps. Additionally, a thorough examination of the dataset revealed no duplicates or incorrect data in column specified."
      ],
      "metadata": {
        "id": "jJYe6nZGZI0E"
      }
    },
    {
      "cell_type": "markdown",
      "source": [
        "**Question 2**:How can we visualize the distribution of movie revenue and runtime in the dataset?\n",
        "\n"
      ],
      "metadata": {
        "id": "9eJ3Do0KsMhI"
      }
    },
    {
      "cell_type": "code",
      "source": [
        "revenue_column = movies['revenue']\n",
        "revenue_column"
      ],
      "metadata": {
        "id": "z1Nby-XU2irX",
        "colab": {
          "base_uri": "https://localhost:8080/"
        },
        "outputId": "e8e6b873-6e89-4657-c2f0-755d666c413a"
      },
      "execution_count": null,
      "outputs": [
        {
          "output_type": "execute_result",
          "data": {
            "text/plain": [
              "0       2787965087\n",
              "1        961000000\n",
              "2        880674609\n",
              "3       1084939099\n",
              "4        284139100\n",
              "           ...    \n",
              "4798       2040920\n",
              "4799             0\n",
              "4800             0\n",
              "4801             0\n",
              "4802             0\n",
              "Name: revenue, Length: 4800, dtype: int64"
            ]
          },
          "metadata": {},
          "execution_count": 1088
        }
      ]
    },
    {
      "cell_type": "code",
      "source": [
        "plt.figure(figsize=(10, 6))\n",
        "plt.subplot(1, 2,1) #we have specified that we want to create a subplot grid with 1 row and 2 columns\n",
        "plt.hist(movies['revenue'], bins=30)\n",
        "plt.xlabel('Revenue')\n",
        "plt.ylabel('Count') #count of values in each bin\n",
        "plt.title('Distribution of Movie Revenue')"
      ],
      "metadata": {
        "id": "6SPSfvdkMENo",
        "colab": {
          "base_uri": "https://localhost:8080/",
          "height": 581
        },
        "outputId": "7de81c36-0870-4ff9-e686-c32ee3c554ce"
      },
      "execution_count": null,
      "outputs": [
        {
          "output_type": "execute_result",
          "data": {
            "text/plain": [
              "Text(0.5, 1.0, 'Distribution of Movie Revenue')"
            ]
          },
          "metadata": {},
          "execution_count": 1089
        },
        {
          "output_type": "display_data",
          "data": {
            "text/plain": [
              "<Figure size 1000x600 with 1 Axes>"
            ],
            "image/png": "[encoded data removed]"
          },
          "metadata": {}
        }
      ]
    },
    {
      "cell_type": "code",
      "source": [
        "runtime_column = movies['runtime']\n",
        "runtime_column"
      ],
      "metadata": {
        "id": "isGUgtMF1mjn",
        "colab": {
          "base_uri": "https://localhost:8080/"
        },
        "outputId": "7407b1a4-11b6-40c4-ff4d-089b7049cb2b"
      },
      "execution_count": null,
      "outputs": [
        {
          "output_type": "execute_result",
          "data": {
            "text/plain": [
              "0       162.0\n",
              "1       169.0\n",
              "2       148.0\n",
              "3       165.0\n",
              "4       132.0\n",
              "        ...  \n",
              "4798     81.0\n",
              "4799     85.0\n",
              "4800    120.0\n",
              "4801     98.0\n",
              "4802     90.0\n",
              "Name: runtime, Length: 4800, dtype: float64"
            ]
          },
          "metadata": {},
          "execution_count": 1090
        }
      ]
    },
    {
      "cell_type": "code",
      "source": [
        "plt.figure(figsize=(12, 6))\n",
        "plt.subplot(1, 2,1) #we have specified that we want to create a subplot grid with 1 row and 2 columns\n",
        "plt.hist(movies['runtime'], bins=30)\n",
        "plt.xlabel('Runtime')\n",
        "plt.ylabel('Count') #count of values in each bin\n",
        "plt.title('Distribution of Movie Runtime')"
      ],
      "metadata": {
        "id": "VRqXX-TkwVri",
        "colab": {
          "base_uri": "https://localhost:8080/",
          "height": 581
        },
        "outputId": "7523011c-d6f1-482a-d972-c7cdd5b6e3ba"
      },
      "execution_count": null,
      "outputs": [
        {
          "output_type": "execute_result",
          "data": {
            "text/plain": [
              "Text(0.5, 1.0, 'Distribution of Movie Runtime')"
            ]
          },
          "metadata": {},
          "execution_count": 1091
        },
        {
          "output_type": "display_data",
          "data": {
            "text/plain": [
              "<Figure size 1200x600 with 1 Axes>"
            ],
            "image/png": "[encoded data removed]"
          },
          "metadata": {}
        }
      ]
    },
    {
      "cell_type": "markdown",
      "source": [
        "**Summary:** In the histograph plotted above we were able to visualize the distribution of movie revenue and runtime in the dataset given to us.\n",
        "\n",
        "The minimum revenue is 0, suggesting that some movies might not have generated any revenue."
      ],
      "metadata": {
        "id": "7vK9E6gc_nPJ"
      }
    },
    {
      "cell_type": "markdown",
      "source": [
        "**Question 3**:Can we create visualizations to understand the relationship between variables (popularity, budget) ?\n",
        "\n"
      ],
      "metadata": {
        "id": "AZ6lRzySvcXp"
      }
    },
    {
      "cell_type": "code",
      "source": [
        "budget_column = movies['budget']\n",
        "budget_column"
      ],
      "metadata": {
        "id": "HWgEaveR6Dxt",
        "colab": {
          "base_uri": "https://localhost:8080/"
        },
        "outputId": "9b471bc6-5dc5-45f5-988a-c721b471c58d"
      },
      "execution_count": null,
      "outputs": [
        {
          "output_type": "execute_result",
          "data": {
            "text/plain": [
              "0       237000000\n",
              "1       300000000\n",
              "2       245000000\n",
              "3       250000000\n",
              "4       260000000\n",
              "          ...    \n",
              "4798       220000\n",
              "4799         9000\n",
              "4800     23000000\n",
              "4801     23000000\n",
              "4802     23000000\n",
              "Name: budget, Length: 4800, dtype: int64"
            ]
          },
          "metadata": {},
          "execution_count": 1092
        }
      ]
    },
    {
      "cell_type": "code",
      "source": [
        "popularity_column = movies['popularity']\n",
        "popularity_column"
      ],
      "metadata": {
        "id": "DzB9_gK957WD",
        "colab": {
          "base_uri": "https://localhost:8080/"
        },
        "outputId": "4e8860b4-a5bd-439e-9e0c-d01ea679a843"
      },
      "execution_count": null,
      "outputs": [
        {
          "output_type": "execute_result",
          "data": {
            "text/plain": [
              "0       150.437577\n",
              "1       139.082615\n",
              "2       107.376788\n",
              "3       112.312950\n",
              "4        43.926995\n",
              "           ...    \n",
              "4798     14.269792\n",
              "4799      0.642552\n",
              "4800      1.444476\n",
              "4801      0.857008\n",
              "4802      1.929883\n",
              "Name: popularity, Length: 4800, dtype: float64"
            ]
          },
          "metadata": {},
          "execution_count": 1093
        }
      ]
    },
    {
      "cell_type": "code",
      "source": [
        "# relationship between variables (popularity, budget)\n",
        "plt.figure(figsize=(8, 6))\n",
        "plt.scatter(movies['popularity'], movies['budget'])\n",
        "plt.xlabel('Popularity')\n",
        "plt.ylabel('Budget')\n",
        "plt.title('Relationship between Popularity and Budget')\n",
        "plt.show()"
      ],
      "metadata": {
        "id": "KLaTIp6nMeHo",
        "colab": {
          "base_uri": "https://localhost:8080/",
          "height": 564
        },
        "outputId": "b81f217a-e166-4d50-acc5-2b6664256fec"
      },
      "execution_count": null,
      "outputs": [
        {
          "output_type": "display_data",
          "data": {
            "text/plain": [
              "<Figure size 800x600 with 1 Axes>"
            ],
            "image/png": "[encoded data removed]"
          },
          "metadata": {}
        }
      ]
    },
    {
      "cell_type": "markdown",
      "source": [
        "**Summary:** In the scatter plot above we were able to create visualizations to understand the relationship between variables (popularity, budget)"
      ],
      "metadata": {
        "id": "TYDMuv7iQCdv"
      }
    },
    {
      "cell_type": "markdown",
      "source": [
        "**Question 4**:How can we visualize the correlation between features vote average and vote count ?\n",
        "\n"
      ],
      "metadata": {
        "id": "MrBCDg_UyO4T"
      }
    },
    {
      "cell_type": "code",
      "source": [
        "correlation_coeff = movies['vote_average'].corr(movies['vote_count'])\n",
        "correlation_coeff"
      ],
      "metadata": {
        "colab": {
          "base_uri": "https://localhost:8080/"
        },
        "id": "rC-RXEYiMLp1",
        "outputId": "b4bc6412-50fe-40c7-81d1-73be40460443"
      },
      "execution_count": null,
      "outputs": [
        {
          "output_type": "execute_result",
          "data": {
            "text/plain": [
              "0.3130174002492376"
            ]
          },
          "metadata": {},
          "execution_count": 1095
        }
      ]
    },
    {
      "cell_type": "code",
      "source": [
        "# correlation between features vote average and vote count\n",
        "plt.figure(figsize=(8, 6))\n",
        "plt.scatter(movies['vote_average'], movies['vote_count'])\n",
        "plt.xlabel('Vote Average')\n",
        "plt.ylabel('Vote Count')\n",
        "plt.title('Correlation between Vote Average and Vote Count')\n",
        "plt.show()"
      ],
      "metadata": {
        "id": "pdLbHvDWMiw0",
        "colab": {
          "base_uri": "https://localhost:8080/",
          "height": 564
        },
        "outputId": "4858dd15-5519-4fac-cd6b-bd52505d01f6"
      },
      "execution_count": null,
      "outputs": [
        {
          "output_type": "display_data",
          "data": {
            "text/plain": [
              "<Figure size 800x600 with 1 Axes>"
            ],
            "image/png": "[encoded data removed]"
          },
          "metadata": {}
        }
      ]
    },
    {
      "cell_type": "markdown",
      "source": [
        "**Summary:** In the scatter plot above we were able to create visualizations to understand the correlation between features vote average and vote count."
      ],
      "metadata": {
        "id": "7OM93SG3d79_"
      }
    },
    {
      "cell_type": "markdown",
      "source": [
        "# **TASK 2** - Classification/Regression"
      ],
      "metadata": {
        "id": "rWhSayynuzqy"
      }
    },
    {
      "cell_type": "markdown",
      "source": [
        "Perform following steps on the same dataset which you used for EDA.\n",
        "\n",
        "- Data Preprocessing (as per requirement)\n",
        "- Feature Engineering\n",
        "- Split dataset in train-test (80:20 ratio)\n",
        "- Model selection\n",
        "- Model training\n",
        "- Model evaluation\n",
        "- Fine-tune the Model\n",
        "- Make predictions\n",
        "-Summarize your model's performance by evaluation metrices"
      ],
      "metadata": {
        "id": "WUKdg0UTuy0a"
      }
    },
    {
      "cell_type": "markdown",
      "source": [
        "**Data Preprocessing**"
      ],
      "metadata": {
        "id": "E2OesBRuPBIY"
      }
    },
    {
      "cell_type": "markdown",
      "source": [
        "As we have already sorted out the cases of missing values and duplicated values in Question 1, and we have also changed the datatype of 'runtime', we will now focus on the datatype and other processing."
      ],
      "metadata": {
        "id": "KmfUC6AwROdU"
      }
    },
    {
      "cell_type": "code",
      "source": [
        "movies.shape"
      ],
      "metadata": {
        "id": "EX1yhRKllze6",
        "colab": {
          "base_uri": "https://localhost:8080/"
        },
        "outputId": "8df25471-607c-49de-a7bf-ee4f97ca902e"
      },
      "execution_count": null,
      "outputs": [
        {
          "output_type": "execute_result",
          "data": {
            "text/plain": [
              "(4800, 20)"
            ]
          },
          "metadata": {},
          "execution_count": 1097
        }
      ]
    },
    {
      "cell_type": "code",
      "source": [
        "movies.head(5)"
      ],
      "metadata": {
        "id": "mF8Ln9wVmFVA",
        "colab": {
          "base_uri": "https://localhost:8080/",
          "height": 739
        },
        "outputId": "64cea4ff-bfdc-44fc-88f2-d314cf7c5d7c"
      },
      "execution_count": null,
      "outputs": [
        {
          "output_type": "execute_result",
          "data": {
            "text/plain": [
              "      budget                                             genres  \\\n",
              "0  237000000  [{\"id\": 28, \"name\": \"Action\"}, {\"id\": 12, \"nam...   \n",
              "1  300000000  [{\"id\": 12, \"name\": \"Adventure\"}, {\"id\": 14, \"...   \n",
              "2  245000000  [{\"id\": 28, \"name\": \"Action\"}, {\"id\": 12, \"nam...   \n",
              "3  250000000  [{\"id\": 28, \"name\": \"Action\"}, {\"id\": 80, \"nam...   \n",
              "4  260000000  [{\"id\": 28, \"name\": \"Action\"}, {\"id\": 12, \"nam...   \n",
              "\n",
              "                                       homepage      id  \\\n",
              "0                   http://www.avatarmovie.com/   19995   \n",
              "1  http://disney.go.com/disneypictures/pirates/     285   \n",
              "2   http://www.sonypictures.com/movies/spectre/  206647   \n",
              "3            http://www.thedarkknightrises.com/   49026   \n",
              "4          http://movies.disney.com/john-carter   49529   \n",
              "\n",
              "                                            keywords original_language  \\\n",
              "0  [{\"id\": 1463, \"name\": \"culture clash\"}, {\"id\":...                en   \n",
              "1  [{\"id\": 270, \"name\": \"ocean\"}, {\"id\": 726, \"na...                en   \n",
              "2  [{\"id\": 470, \"name\": \"spy\"}, {\"id\": 818, \"name...                en   \n",
              "3  [{\"id\": 849, \"name\": \"dc comics\"}, {\"id\": 853,...                en   \n",
              "4  [{\"id\": 818, \"name\": \"based on novel\"}, {\"id\":...                en   \n",
              "\n",
              "                             original_title  \\\n",
              "0                                    Avatar   \n",
              "1  Pirates of the Caribbean: At World's End   \n",
              "2                                   Spectre   \n",
              "3                     The Dark Knight Rises   \n",
              "4                               John Carter   \n",
              "\n",
              "                                            overview  popularity  \\\n",
              "0  In the 22nd century, a paraplegic Marine is di...  150.437577   \n",
              "1  Captain Barbossa, long believed to be dead, ha...  139.082615   \n",
              "2  A cryptic message from Bond’s past sends him o...  107.376788   \n",
              "3  Following the death of District Attorney Harve...  112.312950   \n",
              "4  John Carter is a war-weary, former military ca...   43.926995   \n",
              "\n",
              "                                production_companies  \\\n",
              "0  [{\"name\": \"Ingenious Film Partners\", \"id\": 289...   \n",
              "1  [{\"name\": \"Walt Disney Pictures\", \"id\": 2}, {\"...   \n",
              "2  [{\"name\": \"Columbia Pictures\", \"id\": 5}, {\"nam...   \n",
              "3  [{\"name\": \"Legendary Pictures\", \"id\": 923}, {\"...   \n",
              "4        [{\"name\": \"Walt Disney Pictures\", \"id\": 2}]   \n",
              "\n",
              "                                production_countries release_date     revenue  \\\n",
              "0  [{\"iso_3166_1\": \"US\", \"name\": \"United States o...   2009-12-10  2787965087   \n",
              "1  [{\"iso_3166_1\": \"US\", \"name\": \"United States o...   2007-05-19   961000000   \n",
              "2  [{\"iso_3166_1\": \"GB\", \"name\": \"United Kingdom\"...   2015-10-26   880674609   \n",
              "3  [{\"iso_3166_1\": \"US\", \"name\": \"United States o...   2012-07-16  1084939099   \n",
              "4  [{\"iso_3166_1\": \"US\", \"name\": \"United States o...   2012-03-07   284139100   \n",
              "\n",
              "   runtime                                   spoken_languages    status  \\\n",
              "0    162.0  [{\"iso_639_1\": \"en\", \"name\": \"English\"}, {\"iso...  Released   \n",
              "1    169.0           [{\"iso_639_1\": \"en\", \"name\": \"English\"}]  Released   \n",
              "2    148.0  [{\"iso_639_1\": \"fr\", \"name\": \"Fran\\u00e7ais\"},...  Released   \n",
              "3    165.0           [{\"iso_639_1\": \"en\", \"name\": \"English\"}]  Released   \n",
              "4    132.0           [{\"iso_639_1\": \"en\", \"name\": \"English\"}]  Released   \n",
              "\n",
              "                                          tagline  \\\n",
              "0                     Enter the World of Pandora.   \n",
              "1  At the end of the world, the adventure begins.   \n",
              "2                           A Plan No One Escapes   \n",
              "3                                 The Legend Ends   \n",
              "4            Lost in our world, found in another.   \n",
              "\n",
              "                                      title  vote_average  vote_count  \n",
              "0                                    Avatar           7.2       11800  \n",
              "1  Pirates of the Caribbean: At World's End           6.9        4500  \n",
              "2                                   Spectre           6.3        4466  \n",
              "3                     The Dark Knight Rises           7.6        9106  \n",
              "4                               John Carter           6.1        2124  "
            ],
            "text/html": [
              "\n",
              "  <div id=\"df-a9a16230-775a-4f9d-aa07-0af0cef4fd2a\">\n",
              "    <div class=\"colab-df-container\">\n",
              "      <div>\n",
              "<style scoped>\n",
              "    .dataframe tbody tr th:only-of-type {\n",
              "        vertical-align: middle;\n",
              "    }\n",
              "\n",
              "    .dataframe tbody tr th {\n",
              "        vertical-align: top;\n",
              "    }\n",
              "\n",
              "    .dataframe thead th {\n",
              "        text-align: right;\n",
              "    }\n",
              "</style>\n",
              "<table border=\"1\" class=\"dataframe\">\n",
              "  <thead>\n",
              "    <tr style=\"text-align: right;\">\n",
              "      <th></th>\n",
              "      <th>budget</th>\n",
              "      <th>genres</th>\n",
              "      <th>homepage</th>\n",
              "      <th>id</th>\n",
              "      <th>keywords</th>\n",
              "      <th>original_language</th>\n",
              "      <th>original_title</th>\n",
              "      <th>overview</th>\n",
              "      <th>popularity</th>\n",
              "      <th>production_companies</th>\n",
              "      <th>production_countries</th>\n",
              "      <th>release_date</th>\n",
              "      <th>revenue</th>\n",
              "      <th>runtime</th>\n",
              "      <th>spoken_languages</th>\n",
              "      <th>status</th>\n",
              "      <th>tagline</th>\n",
              "      <th>title</th>\n",
              "      <th>vote_average</th>\n",
              "      <th>vote_count</th>\n",
              "    </tr>\n",
              "  </thead>\n",
              "  <tbody>\n",
              "    <tr>\n",
              "      <th>0</th>\n",
              "      <td>237000000</td>\n",
              "      <td>[{\"id\": 28, \"name\": \"Action\"}, {\"id\": 12, \"nam...</td>\n",
              "      <td>http://www.avatarmovie.com/</td>\n",
              "      <td>19995</td>\n",
              "      <td>[{\"id\": 1463, \"name\": \"culture clash\"}, {\"id\":...</td>\n",
              "      <td>en</td>\n",
              "      <td>Avatar</td>\n",
              "      <td>In the 22nd century, a paraplegic Marine is di...</td>\n",
              "      <td>150.437577</td>\n",
              "      <td>[{\"name\": \"Ingenious Film Partners\", \"id\": 289...</td>\n",
              "      <td>[{\"iso_3166_1\": \"US\", \"name\": \"United States o...</td>\n",
              "      <td>2009-12-10</td>\n",
              "      <td>2787965087</td>\n",
              "      <td>162.0</td>\n",
              "      <td>[{\"iso_639_1\": \"en\", \"name\": \"English\"}, {\"iso...</td>\n",
              "      <td>Released</td>\n",
              "      <td>Enter the World of Pandora.</td>\n",
              "      <td>Avatar</td>\n",
              "      <td>7.2</td>\n",
              "      <td>11800</td>\n",
              "    </tr>\n",
              "    <tr>\n",
              "      <th>1</th>\n",
              "      <td>300000000</td>\n",
              "      <td>[{\"id\": 12, \"name\": \"Adventure\"}, {\"id\": 14, \"...</td>\n",
              "      <td>http://disney.go.com/disneypictures/pirates/</td>\n",
              "      <td>285</td>\n",
              "      <td>[{\"id\": 270, \"name\": \"ocean\"}, {\"id\": 726, \"na...</td>\n",
              "      <td>en</td>\n",
              "      <td>Pirates of the Caribbean: At World's End</td>\n",
              "      <td>Captain Barbossa, long believed to be dead, ha...</td>\n",
              "      <td>139.082615</td>\n",
              "      <td>[{\"name\": \"Walt Disney Pictures\", \"id\": 2}, {\"...</td>\n",
              "      <td>[{\"iso_3166_1\": \"US\", \"name\": \"United States o...</td>\n",
              "      <td>2007-05-19</td>\n",
              "      <td>961000000</td>\n",
              "      <td>169.0</td>\n",
              "      <td>[{\"iso_639_1\": \"en\", \"name\": \"English\"}]</td>\n",
              "      <td>Released</td>\n",
              "      <td>At the end of the world, the adventure begins.</td>\n",
              "      <td>Pirates of the Caribbean: At World's End</td>\n",
              "      <td>6.9</td>\n",
              "      <td>4500</td>\n",
              "    </tr>\n",
              "    <tr>\n",
              "      <th>2</th>\n",
              "      <td>245000000</td>\n",
              "      <td>[{\"id\": 28, \"name\": \"Action\"}, {\"id\": 12, \"nam...</td>\n",
              "      <td>http://www.sonypictures.com/movies/spectre/</td>\n",
              "      <td>206647</td>\n",
              "      <td>[{\"id\": 470, \"name\": \"spy\"}, {\"id\": 818, \"name...</td>\n",
              "      <td>en</td>\n",
              "      <td>Spectre</td>\n",
              "      <td>A cryptic message from Bond’s past sends him o...</td>\n",
              "      <td>107.376788</td>\n",
              "      <td>[{\"name\": \"Columbia Pictures\", \"id\": 5}, {\"nam...</td>\n",
              "      <td>[{\"iso_3166_1\": \"GB\", \"name\": \"United Kingdom\"...</td>\n",
              "      <td>2015-10-26</td>\n",
              "      <td>880674609</td>\n",
              "      <td>148.0</td>\n",
              "      <td>[{\"iso_639_1\": \"fr\", \"name\": \"Fran\\u00e7ais\"},...</td>\n",
              "      <td>Released</td>\n",
              "      <td>A Plan No One Escapes</td>\n",
              "      <td>Spectre</td>\n",
              "      <td>6.3</td>\n",
              "      <td>4466</td>\n",
              "    </tr>\n",
              "    <tr>\n",
              "      <th>3</th>\n",
              "      <td>250000000</td>\n",
              "      <td>[{\"id\": 28, \"name\": \"Action\"}, {\"id\": 80, \"nam...</td>\n",
              "      <td>http://www.thedarkknightrises.com/</td>\n",
              "      <td>49026</td>\n",
              "      <td>[{\"id\": 849, \"name\": \"dc comics\"}, {\"id\": 853,...</td>\n",
              "      <td>en</td>\n",
              "      <td>The Dark Knight Rises</td>\n",
              "      <td>Following the death of District Attorney Harve...</td>\n",
              "      <td>112.312950</td>\n",
              "      <td>[{\"name\": \"Legendary Pictures\", \"id\": 923}, {\"...</td>\n",
              "      <td>[{\"iso_3166_1\": \"US\", \"name\": \"United States o...</td>\n",
              "      <td>2012-07-16</td>\n",
              "      <td>1084939099</td>\n",
              "      <td>165.0</td>\n",
              "      <td>[{\"iso_639_1\": \"en\", \"name\": \"English\"}]</td>\n",
              "      <td>Released</td>\n",
              "      <td>The Legend Ends</td>\n",
              "      <td>The Dark Knight Rises</td>\n",
              "      <td>7.6</td>\n",
              "      <td>9106</td>\n",
              "    </tr>\n",
              "    <tr>\n",
              "      <th>4</th>\n",
              "      <td>260000000</td>\n",
              "      <td>[{\"id\": 28, \"name\": \"Action\"}, {\"id\": 12, \"nam...</td>\n",
              "      <td>http://movies.disney.com/john-carter</td>\n",
              "      <td>49529</td>\n",
              "      <td>[{\"id\": 818, \"name\": \"based on novel\"}, {\"id\":...</td>\n",
              "      <td>en</td>\n",
              "      <td>John Carter</td>\n",
              "      <td>John Carter is a war-weary, former military ca...</td>\n",
              "      <td>43.926995</td>\n",
              "      <td>[{\"name\": \"Walt Disney Pictures\", \"id\": 2}]</td>\n",
              "      <td>[{\"iso_3166_1\": \"US\", \"name\": \"United States o...</td>\n",
              "      <td>2012-03-07</td>\n",
              "      <td>284139100</td>\n",
              "      <td>132.0</td>\n",
              "      <td>[{\"iso_639_1\": \"en\", \"name\": \"English\"}]</td>\n",
              "      <td>Released</td>\n",
              "      <td>Lost in our world, found in another.</td>\n",
              "      <td>John Carter</td>\n",
              "      <td>6.1</td>\n",
              "      <td>2124</td>\n",
              "    </tr>\n",
              "  </tbody>\n",
              "</table>\n",
              "</div>\n",
              "      <button class=\"colab-df-convert\" onclick=\"convertToInteractive('df-a9a16230-775a-4f9d-aa07-0af0cef4fd2a')\"\n",
              "              title=\"Convert this dataframe to an interactive table.\"\n",
              "              style=\"display:none;\">\n",
              "        \n",
              "  <svg xmlns=\"http://www.w3.org/2000/svg\" height=\"24px\"viewBox=\"0 0 24 24\"\n",
              "       width=\"24px\">\n",
              "    <path d=\"M0 0h24v24H0V0z\" fill=\"none\"/>\n",
              "    <path d=\"M18.56 5.44l.94 2.06.94-2.06 2.06-.94-2.06-.94-.94-2.06-.94 2.06-2.06.94zm-11 1L8.5 8.5l.94-2.06 2.06-.94-2.06-.94L8.5 2.5l-.94 2.06-2.06.94zm10 10l.94 2.06.94-2.06 2.06-.94-2.06-.94-.94-2.06-.94 2.06-2.06.94z\"/><path d=\"M17.41 7.96l-1.37-1.37c-.4-.4-.92-.59-1.43-.59-.52 0-1.04.2-1.43.59L10.3 9.45l-7.72 7.72c-.78.78-.78 2.05 0 2.83L4 21.41c.39.39.9.59 1.41.59.51 0 1.02-.2 1.41-.59l7.78-7.78 2.81-2.81c.8-.78.8-2.07 0-2.86zM5.41 20L4 18.59l7.72-7.72 1.47 1.35L5.41 20z\"/>\n",
              "  </svg>\n",
              "      </button>\n",
              "      \n",
              "  <style>\n",
              "    .colab-df-container {\n",
              "      display:flex;\n",
              "      flex-wrap:wrap;\n",
              "      gap: 12px;\n",
              "    }\n",
              "\n",
              "    .colab-df-convert {\n",
              "      background-color: #E8F0FE;\n",
              "      border: none;\n",
              "      border-radius: 50%;\n",
              "      cursor: pointer;\n",
              "      display: none;\n",
              "      fill: #1967D2;\n",
              "      height: 32px;\n",
              "      padding: 0 0 0 0;\n",
              "      width: 32px;\n",
              "    }\n",
              "\n",
              "    .colab-df-convert:hover {\n",
              "      background-color: #E2EBFA;\n",
              "      box-shadow: 0px 1px 2px rgba(60, 64, 67, 0.3), 0px 1px 3px 1px rgba(60, 64, 67, 0.15);\n",
              "      fill: #174EA6;\n",
              "    }\n",
              "\n",
              "    [theme=dark] .colab-df-convert {\n",
              "      background-color: #3B4455;\n",
              "      fill: #D2E3FC;\n",
              "    }\n",
              "\n",
              "    [theme=dark] .colab-df-convert:hover {\n",
              "      background-color: #434B5C;\n",
              "      box-shadow: 0px 1px 3px 1px rgba(0, 0, 0, 0.15);\n",
              "      filter: drop-shadow(0px 1px 2px rgba(0, 0, 0, 0.3));\n",
              "      fill: #FFFFFF;\n",
              "    }\n",
              "  </style>\n",
              "\n",
              "      <script>\n",
              "        const buttonEl =\n",
              "          document.querySelector('#df-a9a16230-775a-4f9d-aa07-0af0cef4fd2a button.colab-df-convert');\n",
              "        buttonEl.style.display =\n",
              "          google.colab.kernel.accessAllowed ? 'block' : 'none';\n",
              "\n",
              "        async function convertToInteractive(key) {\n",
              "          const element = document.querySelector('#df-a9a16230-775a-4f9d-aa07-0af0cef4fd2a');\n",
              "          const dataTable =\n",
              "            await google.colab.kernel.invokeFunction('convertToInteractive',\n",
              "                                                     [key], {});\n",
              "          if (!dataTable) return;\n",
              "\n",
              "          const docLinkHtml = 'Like what you see? Visit the ' +\n",
              "            '<a target=\"_blank\" href=https://colab.research.google.com/notebooks/data_table.ipynb>data table notebook</a>'\n",
              "            + ' to learn more about interactive tables.';\n",
              "          element.innerHTML = '';\n",
              "          dataTable['output_type'] = 'display_data';\n",
              "          await google.colab.output.renderOutput(dataTable, element);\n",
              "          const docLink = document.createElement('div');\n",
              "          docLink.innerHTML = docLinkHtml;\n",
              "          element.appendChild(docLink);\n",
              "        }\n",
              "      </script>\n",
              "    </div>\n",
              "  </div>\n",
              "  "
            ]
          },
          "metadata": {},
          "execution_count": 1098
        }
      ]
    },
    {
      "cell_type": "code",
      "source": [
        "movies.columns"
      ],
      "metadata": {
        "id": "6OjPp7x5w9YS",
        "colab": {
          "base_uri": "https://localhost:8080/"
        },
        "outputId": "c980de20-26ce-4cb3-ee24-71d017659b5b"
      },
      "execution_count": null,
      "outputs": [
        {
          "output_type": "execute_result",
          "data": {
            "text/plain": [
              "Index(['budget', 'genres', 'homepage', 'id', 'keywords', 'original_language',\n",
              "       'original_title', 'overview', 'popularity', 'production_companies',\n",
              "       'production_countries', 'release_date', 'revenue', 'runtime',\n",
              "       'spoken_languages', 'status', 'tagline', 'title', 'vote_average',\n",
              "       'vote_count'],\n",
              "      dtype='object')"
            ]
          },
          "metadata": {},
          "execution_count": 1099
        }
      ]
    },
    {
      "cell_type": "code",
      "source": [
        "# Drop movies with status other than \"Released\"\n",
        "movies_released = movies[movies['status'] == 'Released']\n",
        "movies.head(5)"
      ],
      "metadata": {
        "colab": {
          "base_uri": "https://localhost:8080/",
          "height": 739
        },
        "id": "eZ4jDnRBrrnz",
        "outputId": "66988c44-774b-426d-fe2c-34166f26d15a"
      },
      "execution_count": null,
      "outputs": [
        {
          "output_type": "execute_result",
          "data": {
            "text/plain": [
              "      budget                                             genres  \\\n",
              "0  237000000  [{\"id\": 28, \"name\": \"Action\"}, {\"id\": 12, \"nam...   \n",
              "1  300000000  [{\"id\": 12, \"name\": \"Adventure\"}, {\"id\": 14, \"...   \n",
              "2  245000000  [{\"id\": 28, \"name\": \"Action\"}, {\"id\": 12, \"nam...   \n",
              "3  250000000  [{\"id\": 28, \"name\": \"Action\"}, {\"id\": 80, \"nam...   \n",
              "4  260000000  [{\"id\": 28, \"name\": \"Action\"}, {\"id\": 12, \"nam...   \n",
              "\n",
              "                                       homepage      id  \\\n",
              "0                   http://www.avatarmovie.com/   19995   \n",
              "1  http://disney.go.com/disneypictures/pirates/     285   \n",
              "2   http://www.sonypictures.com/movies/spectre/  206647   \n",
              "3            http://www.thedarkknightrises.com/   49026   \n",
              "4          http://movies.disney.com/john-carter   49529   \n",
              "\n",
              "                                            keywords original_language  \\\n",
              "0  [{\"id\": 1463, \"name\": \"culture clash\"}, {\"id\":...                en   \n",
              "1  [{\"id\": 270, \"name\": \"ocean\"}, {\"id\": 726, \"na...                en   \n",
              "2  [{\"id\": 470, \"name\": \"spy\"}, {\"id\": 818, \"name...                en   \n",
              "3  [{\"id\": 849, \"name\": \"dc comics\"}, {\"id\": 853,...                en   \n",
              "4  [{\"id\": 818, \"name\": \"based on novel\"}, {\"id\":...                en   \n",
              "\n",
              "                             original_title  \\\n",
              "0                                    Avatar   \n",
              "1  Pirates of the Caribbean: At World's End   \n",
              "2                                   Spectre   \n",
              "3                     The Dark Knight Rises   \n",
              "4                               John Carter   \n",
              "\n",
              "                                            overview  popularity  \\\n",
              "0  In the 22nd century, a paraplegic Marine is di...  150.437577   \n",
              "1  Captain Barbossa, long believed to be dead, ha...  139.082615   \n",
              "2  A cryptic message from Bond’s past sends him o...  107.376788   \n",
              "3  Following the death of District Attorney Harve...  112.312950   \n",
              "4  John Carter is a war-weary, former military ca...   43.926995   \n",
              "\n",
              "                                production_companies  \\\n",
              "0  [{\"name\": \"Ingenious Film Partners\", \"id\": 289...   \n",
              "1  [{\"name\": \"Walt Disney Pictures\", \"id\": 2}, {\"...   \n",
              "2  [{\"name\": \"Columbia Pictures\", \"id\": 5}, {\"nam...   \n",
              "3  [{\"name\": \"Legendary Pictures\", \"id\": 923}, {\"...   \n",
              "4        [{\"name\": \"Walt Disney Pictures\", \"id\": 2}]   \n",
              "\n",
              "                                production_countries release_date     revenue  \\\n",
              "0  [{\"iso_3166_1\": \"US\", \"name\": \"United States o...   2009-12-10  2787965087   \n",
              "1  [{\"iso_3166_1\": \"US\", \"name\": \"United States o...   2007-05-19   961000000   \n",
              "2  [{\"iso_3166_1\": \"GB\", \"name\": \"United Kingdom\"...   2015-10-26   880674609   \n",
              "3  [{\"iso_3166_1\": \"US\", \"name\": \"United States o...   2012-07-16  1084939099   \n",
              "4  [{\"iso_3166_1\": \"US\", \"name\": \"United States o...   2012-03-07   284139100   \n",
              "\n",
              "   runtime                                   spoken_languages    status  \\\n",
              "0    162.0  [{\"iso_639_1\": \"en\", \"name\": \"English\"}, {\"iso...  Released   \n",
              "1    169.0           [{\"iso_639_1\": \"en\", \"name\": \"English\"}]  Released   \n",
              "2    148.0  [{\"iso_639_1\": \"fr\", \"name\": \"Fran\\u00e7ais\"},...  Released   \n",
              "3    165.0           [{\"iso_639_1\": \"en\", \"name\": \"English\"}]  Released   \n",
              "4    132.0           [{\"iso_639_1\": \"en\", \"name\": \"English\"}]  Released   \n",
              "\n",
              "                                          tagline  \\\n",
              "0                     Enter the World of Pandora.   \n",
              "1  At the end of the world, the adventure begins.   \n",
              "2                           A Plan No One Escapes   \n",
              "3                                 The Legend Ends   \n",
              "4            Lost in our world, found in another.   \n",
              "\n",
              "                                      title  vote_average  vote_count  \n",
              "0                                    Avatar           7.2       11800  \n",
              "1  Pirates of the Caribbean: At World's End           6.9        4500  \n",
              "2                                   Spectre           6.3        4466  \n",
              "3                     The Dark Knight Rises           7.6        9106  \n",
              "4                               John Carter           6.1        2124  "
            ],
            "text/html": [
              "\n",
              "  <div id=\"df-c0838c96-ee01-4514-ace3-9697ca7263d7\">\n",
              "    <div class=\"colab-df-container\">\n",
              "      <div>\n",
              "<style scoped>\n",
              "    .dataframe tbody tr th:only-of-type {\n",
              "        vertical-align: middle;\n",
              "    }\n",
              "\n",
              "    .dataframe tbody tr th {\n",
              "        vertical-align: top;\n",
              "    }\n",
              "\n",
              "    .dataframe thead th {\n",
              "        text-align: right;\n",
              "    }\n",
              "</style>\n",
              "<table border=\"1\" class=\"dataframe\">\n",
              "  <thead>\n",
              "    <tr style=\"text-align: right;\">\n",
              "      <th></th>\n",
              "      <th>budget</th>\n",
              "      <th>genres</th>\n",
              "      <th>homepage</th>\n",
              "      <th>id</th>\n",
              "      <th>keywords</th>\n",
              "      <th>original_language</th>\n",
              "      <th>original_title</th>\n",
              "      <th>overview</th>\n",
              "      <th>popularity</th>\n",
              "      <th>production_companies</th>\n",
              "      <th>production_countries</th>\n",
              "      <th>release_date</th>\n",
              "      <th>revenue</th>\n",
              "      <th>runtime</th>\n",
              "      <th>spoken_languages</th>\n",
              "      <th>status</th>\n",
              "      <th>tagline</th>\n",
              "      <th>title</th>\n",
              "      <th>vote_average</th>\n",
              "      <th>vote_count</th>\n",
              "    </tr>\n",
              "  </thead>\n",
              "  <tbody>\n",
              "    <tr>\n",
              "      <th>0</th>\n",
              "      <td>237000000</td>\n",
              "      <td>[{\"id\": 28, \"name\": \"Action\"}, {\"id\": 12, \"nam...</td>\n",
              "      <td>http://www.avatarmovie.com/</td>\n",
              "      <td>19995</td>\n",
              "      <td>[{\"id\": 1463, \"name\": \"culture clash\"}, {\"id\":...</td>\n",
              "      <td>en</td>\n",
              "      <td>Avatar</td>\n",
              "      <td>In the 22nd century, a paraplegic Marine is di...</td>\n",
              "      <td>150.437577</td>\n",
              "      <td>[{\"name\": \"Ingenious Film Partners\", \"id\": 289...</td>\n",
              "      <td>[{\"iso_3166_1\": \"US\", \"name\": \"United States o...</td>\n",
              "      <td>2009-12-10</td>\n",
              "      <td>2787965087</td>\n",
              "      <td>162.0</td>\n",
              "      <td>[{\"iso_639_1\": \"en\", \"name\": \"English\"}, {\"iso...</td>\n",
              "      <td>Released</td>\n",
              "      <td>Enter the World of Pandora.</td>\n",
              "      <td>Avatar</td>\n",
              "      <td>7.2</td>\n",
              "      <td>11800</td>\n",
              "    </tr>\n",
              "    <tr>\n",
              "      <th>1</th>\n",
              "      <td>300000000</td>\n",
              "      <td>[{\"id\": 12, \"name\": \"Adventure\"}, {\"id\": 14, \"...</td>\n",
              "      <td>http://disney.go.com/disneypictures/pirates/</td>\n",
              "      <td>285</td>\n",
              "      <td>[{\"id\": 270, \"name\": \"ocean\"}, {\"id\": 726, \"na...</td>\n",
              "      <td>en</td>\n",
              "      <td>Pirates of the Caribbean: At World's End</td>\n",
              "      <td>Captain Barbossa, long believed to be dead, ha...</td>\n",
              "      <td>139.082615</td>\n",
              "      <td>[{\"name\": \"Walt Disney Pictures\", \"id\": 2}, {\"...</td>\n",
              "      <td>[{\"iso_3166_1\": \"US\", \"name\": \"United States o...</td>\n",
              "      <td>2007-05-19</td>\n",
              "      <td>961000000</td>\n",
              "      <td>169.0</td>\n",
              "      <td>[{\"iso_639_1\": \"en\", \"name\": \"English\"}]</td>\n",
              "      <td>Released</td>\n",
              "      <td>At the end of the world, the adventure begins.</td>\n",
              "      <td>Pirates of the Caribbean: At World's End</td>\n",
              "      <td>6.9</td>\n",
              "      <td>4500</td>\n",
              "    </tr>\n",
              "    <tr>\n",
              "      <th>2</th>\n",
              "      <td>245000000</td>\n",
              "      <td>[{\"id\": 28, \"name\": \"Action\"}, {\"id\": 12, \"nam...</td>\n",
              "      <td>http://www.sonypictures.com/movies/spectre/</td>\n",
              "      <td>206647</td>\n",
              "      <td>[{\"id\": 470, \"name\": \"spy\"}, {\"id\": 818, \"name...</td>\n",
              "      <td>en</td>\n",
              "      <td>Spectre</td>\n",
              "      <td>A cryptic message from Bond’s past sends him o...</td>\n",
              "      <td>107.376788</td>\n",
              "      <td>[{\"name\": \"Columbia Pictures\", \"id\": 5}, {\"nam...</td>\n",
              "      <td>[{\"iso_3166_1\": \"GB\", \"name\": \"United Kingdom\"...</td>\n",
              "      <td>2015-10-26</td>\n",
              "      <td>880674609</td>\n",
              "      <td>148.0</td>\n",
              "      <td>[{\"iso_639_1\": \"fr\", \"name\": \"Fran\\u00e7ais\"},...</td>\n",
              "      <td>Released</td>\n",
              "      <td>A Plan No One Escapes</td>\n",
              "      <td>Spectre</td>\n",
              "      <td>6.3</td>\n",
              "      <td>4466</td>\n",
              "    </tr>\n",
              "    <tr>\n",
              "      <th>3</th>\n",
              "      <td>250000000</td>\n",
              "      <td>[{\"id\": 28, \"name\": \"Action\"}, {\"id\": 80, \"nam...</td>\n",
              "      <td>http://www.thedarkknightrises.com/</td>\n",
              "      <td>49026</td>\n",
              "      <td>[{\"id\": 849, \"name\": \"dc comics\"}, {\"id\": 853,...</td>\n",
              "      <td>en</td>\n",
              "      <td>The Dark Knight Rises</td>\n",
              "      <td>Following the death of District Attorney Harve...</td>\n",
              "      <td>112.312950</td>\n",
              "      <td>[{\"name\": \"Legendary Pictures\", \"id\": 923}, {\"...</td>\n",
              "      <td>[{\"iso_3166_1\": \"US\", \"name\": \"United States o...</td>\n",
              "      <td>2012-07-16</td>\n",
              "      <td>1084939099</td>\n",
              "      <td>165.0</td>\n",
              "      <td>[{\"iso_639_1\": \"en\", \"name\": \"English\"}]</td>\n",
              "      <td>Released</td>\n",
              "      <td>The Legend Ends</td>\n",
              "      <td>The Dark Knight Rises</td>\n",
              "      <td>7.6</td>\n",
              "      <td>9106</td>\n",
              "    </tr>\n",
              "    <tr>\n",
              "      <th>4</th>\n",
              "      <td>260000000</td>\n",
              "      <td>[{\"id\": 28, \"name\": \"Action\"}, {\"id\": 12, \"nam...</td>\n",
              "      <td>http://movies.disney.com/john-carter</td>\n",
              "      <td>49529</td>\n",
              "      <td>[{\"id\": 818, \"name\": \"based on novel\"}, {\"id\":...</td>\n",
              "      <td>en</td>\n",
              "      <td>John Carter</td>\n",
              "      <td>John Carter is a war-weary, former military ca...</td>\n",
              "      <td>43.926995</td>\n",
              "      <td>[{\"name\": \"Walt Disney Pictures\", \"id\": 2}]</td>\n",
              "      <td>[{\"iso_3166_1\": \"US\", \"name\": \"United States o...</td>\n",
              "      <td>2012-03-07</td>\n",
              "      <td>284139100</td>\n",
              "      <td>132.0</td>\n",
              "      <td>[{\"iso_639_1\": \"en\", \"name\": \"English\"}]</td>\n",
              "      <td>Released</td>\n",
              "      <td>Lost in our world, found in another.</td>\n",
              "      <td>John Carter</td>\n",
              "      <td>6.1</td>\n",
              "      <td>2124</td>\n",
              "    </tr>\n",
              "  </tbody>\n",
              "</table>\n",
              "</div>\n",
              "      <button class=\"colab-df-convert\" onclick=\"convertToInteractive('df-c0838c96-ee01-4514-ace3-9697ca7263d7')\"\n",
              "              title=\"Convert this dataframe to an interactive table.\"\n",
              "              style=\"display:none;\">\n",
              "        \n",
              "  <svg xmlns=\"http://www.w3.org/2000/svg\" height=\"24px\"viewBox=\"0 0 24 24\"\n",
              "       width=\"24px\">\n",
              "    <path d=\"M0 0h24v24H0V0z\" fill=\"none\"/>\n",
              "    <path d=\"M18.56 5.44l.94 2.06.94-2.06 2.06-.94-2.06-.94-.94-2.06-.94 2.06-2.06.94zm-11 1L8.5 8.5l.94-2.06 2.06-.94-2.06-.94L8.5 2.5l-.94 2.06-2.06.94zm10 10l.94 2.06.94-2.06 2.06-.94-2.06-.94-.94-2.06-.94 2.06-2.06.94z\"/><path d=\"M17.41 7.96l-1.37-1.37c-.4-.4-.92-.59-1.43-.59-.52 0-1.04.2-1.43.59L10.3 9.45l-7.72 7.72c-.78.78-.78 2.05 0 2.83L4 21.41c.39.39.9.59 1.41.59.51 0 1.02-.2 1.41-.59l7.78-7.78 2.81-2.81c.8-.78.8-2.07 0-2.86zM5.41 20L4 18.59l7.72-7.72 1.47 1.35L5.41 20z\"/>\n",
              "  </svg>\n",
              "      </button>\n",
              "      \n",
              "  <style>\n",
              "    .colab-df-container {\n",
              "      display:flex;\n",
              "      flex-wrap:wrap;\n",
              "      gap: 12px;\n",
              "    }\n",
              "\n",
              "    .colab-df-convert {\n",
              "      background-color: #E8F0FE;\n",
              "      border: none;\n",
              "      border-radius: 50%;\n",
              "      cursor: pointer;\n",
              "      display: none;\n",
              "      fill: #1967D2;\n",
              "      height: 32px;\n",
              "      padding: 0 0 0 0;\n",
              "      width: 32px;\n",
              "    }\n",
              "\n",
              "    .colab-df-convert:hover {\n",
              "      background-color: #E2EBFA;\n",
              "      box-shadow: 0px 1px 2px rgba(60, 64, 67, 0.3), 0px 1px 3px 1px rgba(60, 64, 67, 0.15);\n",
              "      fill: #174EA6;\n",
              "    }\n",
              "\n",
              "    [theme=dark] .colab-df-convert {\n",
              "      background-color: #3B4455;\n",
              "      fill: #D2E3FC;\n",
              "    }\n",
              "\n",
              "    [theme=dark] .colab-df-convert:hover {\n",
              "      background-color: #434B5C;\n",
              "      box-shadow: 0px 1px 3px 1px rgba(0, 0, 0, 0.15);\n",
              "      filter: drop-shadow(0px 1px 2px rgba(0, 0, 0, 0.3));\n",
              "      fill: #FFFFFF;\n",
              "    }\n",
              "  </style>\n",
              "\n",
              "      <script>\n",
              "        const buttonEl =\n",
              "          document.querySelector('#df-c0838c96-ee01-4514-ace3-9697ca7263d7 button.colab-df-convert');\n",
              "        buttonEl.style.display =\n",
              "          google.colab.kernel.accessAllowed ? 'block' : 'none';\n",
              "\n",
              "        async function convertToInteractive(key) {\n",
              "          const element = document.querySelector('#df-c0838c96-ee01-4514-ace3-9697ca7263d7');\n",
              "          const dataTable =\n",
              "            await google.colab.kernel.invokeFunction('convertToInteractive',\n",
              "                                                     [key], {});\n",
              "          if (!dataTable) return;\n",
              "\n",
              "          const docLinkHtml = 'Like what you see? Visit the ' +\n",
              "            '<a target=\"_blank\" href=https://colab.research.google.com/notebooks/data_table.ipynb>data table notebook</a>'\n",
              "            + ' to learn more about interactive tables.';\n",
              "          element.innerHTML = '';\n",
              "          dataTable['output_type'] = 'display_data';\n",
              "          await google.colab.output.renderOutput(dataTable, element);\n",
              "          const docLink = document.createElement('div');\n",
              "          docLink.innerHTML = docLinkHtml;\n",
              "          element.appendChild(docLink);\n",
              "        }\n",
              "      </script>\n",
              "    </div>\n",
              "  </div>\n",
              "  "
            ]
          },
          "metadata": {},
          "execution_count": 1100
        }
      ]
    },
    {
      "cell_type": "code",
      "source": [
        "# Convert release_date column to datetime format\n",
        "movies['release_date'] = pd.to_datetime(movies['release_date'], errors='coerce')"
      ],
      "metadata": {
        "id": "0B5S8aFlQd0-"
      },
      "execution_count": null,
      "outputs": []
    },
    {
      "cell_type": "code",
      "source": [
        "movies.dtypes"
      ],
      "metadata": {
        "id": "NG0e9abrnICv",
        "colab": {
          "base_uri": "https://localhost:8080/"
        },
        "outputId": "aa8d3989-6849-4aea-be7d-0c301859ca62"
      },
      "execution_count": null,
      "outputs": [
        {
          "output_type": "execute_result",
          "data": {
            "text/plain": [
              "budget                           int64\n",
              "genres                          object\n",
              "homepage                        object\n",
              "id                               int64\n",
              "keywords                        object\n",
              "original_language               object\n",
              "original_title                  object\n",
              "overview                        object\n",
              "popularity                     float64\n",
              "production_companies            object\n",
              "production_countries            object\n",
              "release_date            datetime64[ns]\n",
              "revenue                          int64\n",
              "runtime                        float64\n",
              "spoken_languages                object\n",
              "status                          object\n",
              "tagline                         object\n",
              "title                           object\n",
              "vote_average                   float64\n",
              "vote_count                       int64\n",
              "dtype: object"
            ]
          },
          "metadata": {},
          "execution_count": 1102
        }
      ]
    },
    {
      "cell_type": "markdown",
      "source": [
        "**Feature Engineering**"
      ],
      "metadata": {
        "id": "TgAvsxfTqfoI"
      }
    },
    {
      "cell_type": "code",
      "source": [
        "rd_column = movies['release_date']\n",
        "rd_column"
      ],
      "metadata": {
        "id": "XVt2sifdqq8t",
        "colab": {
          "base_uri": "https://localhost:8080/"
        },
        "outputId": "16e8cdc9-dc82-4957-8677-741898bccd18"
      },
      "execution_count": null,
      "outputs": [
        {
          "output_type": "execute_result",
          "data": {
            "text/plain": [
              "0      2009-12-10\n",
              "1      2007-05-19\n",
              "2      2015-10-26\n",
              "3      2012-07-16\n",
              "4      2012-03-07\n",
              "          ...    \n",
              "4798   1992-09-04\n",
              "4799   2011-12-26\n",
              "4800   2013-10-13\n",
              "4801   2012-05-03\n",
              "4802   2005-08-05\n",
              "Name: release_date, Length: 4800, dtype: datetime64[ns]"
            ]
          },
          "metadata": {},
          "execution_count": 1103
        }
      ]
    },
    {
      "cell_type": "code",
      "source": [
        "movies['release_year'] = movies['release_date'].dt.year\n",
        "#used to create a new column called 'release_year'"
      ],
      "metadata": {
        "id": "hKPJWWUAl423"
      },
      "execution_count": null,
      "outputs": []
    },
    {
      "cell_type": "code",
      "source": [
        "movies['release_year']"
      ],
      "metadata": {
        "id": "cGeU7Oy1rjWo",
        "colab": {
          "base_uri": "https://localhost:8080/"
        },
        "outputId": "be40e711-45c1-4358-db16-b0e4fe14fab9"
      },
      "execution_count": null,
      "outputs": [
        {
          "output_type": "execute_result",
          "data": {
            "text/plain": [
              "0       2009\n",
              "1       2007\n",
              "2       2015\n",
              "3       2012\n",
              "4       2012\n",
              "        ... \n",
              "4798    1992\n",
              "4799    2011\n",
              "4800    2013\n",
              "4801    2012\n",
              "4802    2005\n",
              "Name: release_year, Length: 4800, dtype: int64"
            ]
          },
          "metadata": {},
          "execution_count": 1105
        }
      ]
    },
    {
      "cell_type": "code",
      "source": [
        "movies['release_month'] = movies['release_date'].dt.month #used to create a new column called 'release_date'\n",
        "movies['release_month']"
      ],
      "metadata": {
        "id": "KqDK0A14roj4",
        "colab": {
          "base_uri": "https://localhost:8080/"
        },
        "outputId": "c73f3bba-d7e6-43d0-e4d3-4135ac566bd3"
      },
      "execution_count": null,
      "outputs": [
        {
          "output_type": "execute_result",
          "data": {
            "text/plain": [
              "0       12\n",
              "1        5\n",
              "2       10\n",
              "3        7\n",
              "4        3\n",
              "        ..\n",
              "4798     9\n",
              "4799    12\n",
              "4800    10\n",
              "4801     5\n",
              "4802     8\n",
              "Name: release_month, Length: 4800, dtype: int64"
            ]
          },
          "metadata": {},
          "execution_count": 1106
        }
      ]
    },
    {
      "cell_type": "code",
      "source": [
        "#we will now add new column to show profit\n",
        "movies['profit'] = movies['revenue'] - movies['budget']"
      ],
      "metadata": {
        "id": "5Nch0Mjlr8-n"
      },
      "execution_count": null,
      "outputs": []
    },
    {
      "cell_type": "code",
      "source": [
        "movies['profit']"
      ],
      "metadata": {
        "id": "ArD82Rg5yr8Y",
        "colab": {
          "base_uri": "https://localhost:8080/"
        },
        "outputId": "a0a2dfc6-e6ca-47d3-f3fb-fcd66f82a9d8"
      },
      "execution_count": null,
      "outputs": [
        {
          "output_type": "execute_result",
          "data": {
            "text/plain": [
              "0       2550965087\n",
              "1        661000000\n",
              "2        635674609\n",
              "3        834939099\n",
              "4         24139100\n",
              "           ...    \n",
              "4798       1820920\n",
              "4799         -9000\n",
              "4800     -23000000\n",
              "4801     -23000000\n",
              "4802     -23000000\n",
              "Name: profit, Length: 4800, dtype: int64"
            ]
          },
          "metadata": {},
          "execution_count": 1108
        }
      ]
    },
    {
      "cell_type": "code",
      "source": [
        "movies.head(5)"
      ],
      "metadata": {
        "id": "qYzVHf1jsO9q",
        "colab": {
          "base_uri": "https://localhost:8080/",
          "height": 768
        },
        "outputId": "5b8bea31-e90b-4198-a6be-e320465bd736"
      },
      "execution_count": null,
      "outputs": [
        {
          "output_type": "execute_result",
          "data": {
            "text/plain": [
              "      budget                                             genres  \\\n",
              "0  237000000  [{\"id\": 28, \"name\": \"Action\"}, {\"id\": 12, \"nam...   \n",
              "1  300000000  [{\"id\": 12, \"name\": \"Adventure\"}, {\"id\": 14, \"...   \n",
              "2  245000000  [{\"id\": 28, \"name\": \"Action\"}, {\"id\": 12, \"nam...   \n",
              "3  250000000  [{\"id\": 28, \"name\": \"Action\"}, {\"id\": 80, \"nam...   \n",
              "4  260000000  [{\"id\": 28, \"name\": \"Action\"}, {\"id\": 12, \"nam...   \n",
              "\n",
              "                                       homepage      id  \\\n",
              "0                   http://www.avatarmovie.com/   19995   \n",
              "1  http://disney.go.com/disneypictures/pirates/     285   \n",
              "2   http://www.sonypictures.com/movies/spectre/  206647   \n",
              "3            http://www.thedarkknightrises.com/   49026   \n",
              "4          http://movies.disney.com/john-carter   49529   \n",
              "\n",
              "                                            keywords original_language  \\\n",
              "0  [{\"id\": 1463, \"name\": \"culture clash\"}, {\"id\":...                en   \n",
              "1  [{\"id\": 270, \"name\": \"ocean\"}, {\"id\": 726, \"na...                en   \n",
              "2  [{\"id\": 470, \"name\": \"spy\"}, {\"id\": 818, \"name...                en   \n",
              "3  [{\"id\": 849, \"name\": \"dc comics\"}, {\"id\": 853,...                en   \n",
              "4  [{\"id\": 818, \"name\": \"based on novel\"}, {\"id\":...                en   \n",
              "\n",
              "                             original_title  \\\n",
              "0                                    Avatar   \n",
              "1  Pirates of the Caribbean: At World's End   \n",
              "2                                   Spectre   \n",
              "3                     The Dark Knight Rises   \n",
              "4                               John Carter   \n",
              "\n",
              "                                            overview  popularity  \\\n",
              "0  In the 22nd century, a paraplegic Marine is di...  150.437577   \n",
              "1  Captain Barbossa, long believed to be dead, ha...  139.082615   \n",
              "2  A cryptic message from Bond’s past sends him o...  107.376788   \n",
              "3  Following the death of District Attorney Harve...  112.312950   \n",
              "4  John Carter is a war-weary, former military ca...   43.926995   \n",
              "\n",
              "                                production_companies  ... runtime  \\\n",
              "0  [{\"name\": \"Ingenious Film Partners\", \"id\": 289...  ...   162.0   \n",
              "1  [{\"name\": \"Walt Disney Pictures\", \"id\": 2}, {\"...  ...   169.0   \n",
              "2  [{\"name\": \"Columbia Pictures\", \"id\": 5}, {\"nam...  ...   148.0   \n",
              "3  [{\"name\": \"Legendary Pictures\", \"id\": 923}, {\"...  ...   165.0   \n",
              "4        [{\"name\": \"Walt Disney Pictures\", \"id\": 2}]  ...   132.0   \n",
              "\n",
              "                                    spoken_languages    status  \\\n",
              "0  [{\"iso_639_1\": \"en\", \"name\": \"English\"}, {\"iso...  Released   \n",
              "1           [{\"iso_639_1\": \"en\", \"name\": \"English\"}]  Released   \n",
              "2  [{\"iso_639_1\": \"fr\", \"name\": \"Fran\\u00e7ais\"},...  Released   \n",
              "3           [{\"iso_639_1\": \"en\", \"name\": \"English\"}]  Released   \n",
              "4           [{\"iso_639_1\": \"en\", \"name\": \"English\"}]  Released   \n",
              "\n",
              "                                          tagline  \\\n",
              "0                     Enter the World of Pandora.   \n",
              "1  At the end of the world, the adventure begins.   \n",
              "2                           A Plan No One Escapes   \n",
              "3                                 The Legend Ends   \n",
              "4            Lost in our world, found in another.   \n",
              "\n",
              "                                      title vote_average vote_count  \\\n",
              "0                                    Avatar          7.2      11800   \n",
              "1  Pirates of the Caribbean: At World's End          6.9       4500   \n",
              "2                                   Spectre          6.3       4466   \n",
              "3                     The Dark Knight Rises          7.6       9106   \n",
              "4                               John Carter          6.1       2124   \n",
              "\n",
              "  release_year  release_month      profit  \n",
              "0         2009             12  2550965087  \n",
              "1         2007              5   661000000  \n",
              "2         2015             10   635674609  \n",
              "3         2012              7   834939099  \n",
              "4         2012              3    24139100  \n",
              "\n",
              "[5 rows x 23 columns]"
            ],
            "text/html": [
              "\n",
              "  <div id=\"df-abcc7a7d-0a1a-46ae-a14a-d07a892a24b5\">\n",
              "    <div class=\"colab-df-container\">\n",
              "      <div>\n",
              "<style scoped>\n",
              "    .dataframe tbody tr th:only-of-type {\n",
              "        vertical-align: middle;\n",
              "    }\n",
              "\n",
              "    .dataframe tbody tr th {\n",
              "        vertical-align: top;\n",
              "    }\n",
              "\n",
              "    .dataframe thead th {\n",
              "        text-align: right;\n",
              "    }\n",
              "</style>\n",
              "<table border=\"1\" class=\"dataframe\">\n",
              "  <thead>\n",
              "    <tr style=\"text-align: right;\">\n",
              "      <th></th>\n",
              "      <th>budget</th>\n",
              "      <th>genres</th>\n",
              "      <th>homepage</th>\n",
              "      <th>id</th>\n",
              "      <th>keywords</th>\n",
              "      <th>original_language</th>\n",
              "      <th>original_title</th>\n",
              "      <th>overview</th>\n",
              "      <th>popularity</th>\n",
              "      <th>production_companies</th>\n",
              "      <th>...</th>\n",
              "      <th>runtime</th>\n",
              "      <th>spoken_languages</th>\n",
              "      <th>status</th>\n",
              "      <th>tagline</th>\n",
              "      <th>title</th>\n",
              "      <th>vote_average</th>\n",
              "      <th>vote_count</th>\n",
              "      <th>release_year</th>\n",
              "      <th>release_month</th>\n",
              "      <th>profit</th>\n",
              "    </tr>\n",
              "  </thead>\n",
              "  <tbody>\n",
              "    <tr>\n",
              "      <th>0</th>\n",
              "      <td>237000000</td>\n",
              "      <td>[{\"id\": 28, \"name\": \"Action\"}, {\"id\": 12, \"nam...</td>\n",
              "      <td>http://www.avatarmovie.com/</td>\n",
              "      <td>19995</td>\n",
              "      <td>[{\"id\": 1463, \"name\": \"culture clash\"}, {\"id\":...</td>\n",
              "      <td>en</td>\n",
              "      <td>Avatar</td>\n",
              "      <td>In the 22nd century, a paraplegic Marine is di...</td>\n",
              "      <td>150.437577</td>\n",
              "      <td>[{\"name\": \"Ingenious Film Partners\", \"id\": 289...</td>\n",
              "      <td>...</td>\n",
              "      <td>162.0</td>\n",
              "      <td>[{\"iso_639_1\": \"en\", \"name\": \"English\"}, {\"iso...</td>\n",
              "      <td>Released</td>\n",
              "      <td>Enter the World of Pandora.</td>\n",
              "      <td>Avatar</td>\n",
              "      <td>7.2</td>\n",
              "      <td>11800</td>\n",
              "      <td>2009</td>\n",
              "      <td>12</td>\n",
              "      <td>2550965087</td>\n",
              "    </tr>\n",
              "    <tr>\n",
              "      <th>1</th>\n",
              "      <td>300000000</td>\n",
              "      <td>[{\"id\": 12, \"name\": \"Adventure\"}, {\"id\": 14, \"...</td>\n",
              "      <td>http://disney.go.com/disneypictures/pirates/</td>\n",
              "      <td>285</td>\n",
              "      <td>[{\"id\": 270, \"name\": \"ocean\"}, {\"id\": 726, \"na...</td>\n",
              "      <td>en</td>\n",
              "      <td>Pirates of the Caribbean: At World's End</td>\n",
              "      <td>Captain Barbossa, long believed to be dead, ha...</td>\n",
              "      <td>139.082615</td>\n",
              "      <td>[{\"name\": \"Walt Disney Pictures\", \"id\": 2}, {\"...</td>\n",
              "      <td>...</td>\n",
              "      <td>169.0</td>\n",
              "      <td>[{\"iso_639_1\": \"en\", \"name\": \"English\"}]</td>\n",
              "      <td>Released</td>\n",
              "      <td>At the end of the world, the adventure begins.</td>\n",
              "      <td>Pirates of the Caribbean: At World's End</td>\n",
              "      <td>6.9</td>\n",
              "      <td>4500</td>\n",
              "      <td>2007</td>\n",
              "      <td>5</td>\n",
              "      <td>661000000</td>\n",
              "    </tr>\n",
              "    <tr>\n",
              "      <th>2</th>\n",
              "      <td>245000000</td>\n",
              "      <td>[{\"id\": 28, \"name\": \"Action\"}, {\"id\": 12, \"nam...</td>\n",
              "      <td>http://www.sonypictures.com/movies/spectre/</td>\n",
              "      <td>206647</td>\n",
              "      <td>[{\"id\": 470, \"name\": \"spy\"}, {\"id\": 818, \"name...</td>\n",
              "      <td>en</td>\n",
              "      <td>Spectre</td>\n",
              "      <td>A cryptic message from Bond’s past sends him o...</td>\n",
              "      <td>107.376788</td>\n",
              "      <td>[{\"name\": \"Columbia Pictures\", \"id\": 5}, {\"nam...</td>\n",
              "      <td>...</td>\n",
              "      <td>148.0</td>\n",
              "      <td>[{\"iso_639_1\": \"fr\", \"name\": \"Fran\\u00e7ais\"},...</td>\n",
              "      <td>Released</td>\n",
              "      <td>A Plan No One Escapes</td>\n",
              "      <td>Spectre</td>\n",
              "      <td>6.3</td>\n",
              "      <td>4466</td>\n",
              "      <td>2015</td>\n",
              "      <td>10</td>\n",
              "      <td>635674609</td>\n",
              "    </tr>\n",
              "    <tr>\n",
              "      <th>3</th>\n",
              "      <td>250000000</td>\n",
              "      <td>[{\"id\": 28, \"name\": \"Action\"}, {\"id\": 80, \"nam...</td>\n",
              "      <td>http://www.thedarkknightrises.com/</td>\n",
              "      <td>49026</td>\n",
              "      <td>[{\"id\": 849, \"name\": \"dc comics\"}, {\"id\": 853,...</td>\n",
              "      <td>en</td>\n",
              "      <td>The Dark Knight Rises</td>\n",
              "      <td>Following the death of District Attorney Harve...</td>\n",
              "      <td>112.312950</td>\n",
              "      <td>[{\"name\": \"Legendary Pictures\", \"id\": 923}, {\"...</td>\n",
              "      <td>...</td>\n",
              "      <td>165.0</td>\n",
              "      <td>[{\"iso_639_1\": \"en\", \"name\": \"English\"}]</td>\n",
              "      <td>Released</td>\n",
              "      <td>The Legend Ends</td>\n",
              "      <td>The Dark Knight Rises</td>\n",
              "      <td>7.6</td>\n",
              "      <td>9106</td>\n",
              "      <td>2012</td>\n",
              "      <td>7</td>\n",
              "      <td>834939099</td>\n",
              "    </tr>\n",
              "    <tr>\n",
              "      <th>4</th>\n",
              "      <td>260000000</td>\n",
              "      <td>[{\"id\": 28, \"name\": \"Action\"}, {\"id\": 12, \"nam...</td>\n",
              "      <td>http://movies.disney.com/john-carter</td>\n",
              "      <td>49529</td>\n",
              "      <td>[{\"id\": 818, \"name\": \"based on novel\"}, {\"id\":...</td>\n",
              "      <td>en</td>\n",
              "      <td>John Carter</td>\n",
              "      <td>John Carter is a war-weary, former military ca...</td>\n",
              "      <td>43.926995</td>\n",
              "      <td>[{\"name\": \"Walt Disney Pictures\", \"id\": 2}]</td>\n",
              "      <td>...</td>\n",
              "      <td>132.0</td>\n",
              "      <td>[{\"iso_639_1\": \"en\", \"name\": \"English\"}]</td>\n",
              "      <td>Released</td>\n",
              "      <td>Lost in our world, found in another.</td>\n",
              "      <td>John Carter</td>\n",
              "      <td>6.1</td>\n",
              "      <td>2124</td>\n",
              "      <td>2012</td>\n",
              "      <td>3</td>\n",
              "      <td>24139100</td>\n",
              "    </tr>\n",
              "  </tbody>\n",
              "</table>\n",
              "<p>5 rows × 23 columns</p>\n",
              "</div>\n",
              "      <button class=\"colab-df-convert\" onclick=\"convertToInteractive('df-abcc7a7d-0a1a-46ae-a14a-d07a892a24b5')\"\n",
              "              title=\"Convert this dataframe to an interactive table.\"\n",
              "              style=\"display:none;\">\n",
              "        \n",
              "  <svg xmlns=\"http://www.w3.org/2000/svg\" height=\"24px\"viewBox=\"0 0 24 24\"\n",
              "       width=\"24px\">\n",
              "    <path d=\"M0 0h24v24H0V0z\" fill=\"none\"/>\n",
              "    <path d=\"M18.56 5.44l.94 2.06.94-2.06 2.06-.94-2.06-.94-.94-2.06-.94 2.06-2.06.94zm-11 1L8.5 8.5l.94-2.06 2.06-.94-2.06-.94L8.5 2.5l-.94 2.06-2.06.94zm10 10l.94 2.06.94-2.06 2.06-.94-2.06-.94-.94-2.06-.94 2.06-2.06.94z\"/><path d=\"M17.41 7.96l-1.37-1.37c-.4-.4-.92-.59-1.43-.59-.52 0-1.04.2-1.43.59L10.3 9.45l-7.72 7.72c-.78.78-.78 2.05 0 2.83L4 21.41c.39.39.9.59 1.41.59.51 0 1.02-.2 1.41-.59l7.78-7.78 2.81-2.81c.8-.78.8-2.07 0-2.86zM5.41 20L4 18.59l7.72-7.72 1.47 1.35L5.41 20z\"/>\n",
              "  </svg>\n",
              "      </button>\n",
              "      \n",
              "  <style>\n",
              "    .colab-df-container {\n",
              "      display:flex;\n",
              "      flex-wrap:wrap;\n",
              "      gap: 12px;\n",
              "    }\n",
              "\n",
              "    .colab-df-convert {\n",
              "      background-color: #E8F0FE;\n",
              "      border: none;\n",
              "      border-radius: 50%;\n",
              "      cursor: pointer;\n",
              "      display: none;\n",
              "      fill: #1967D2;\n",
              "      height: 32px;\n",
              "      padding: 0 0 0 0;\n",
              "      width: 32px;\n",
              "    }\n",
              "\n",
              "    .colab-df-convert:hover {\n",
              "      background-color: #E2EBFA;\n",
              "      box-shadow: 0px 1px 2px rgba(60, 64, 67, 0.3), 0px 1px 3px 1px rgba(60, 64, 67, 0.15);\n",
              "      fill: #174EA6;\n",
              "    }\n",
              "\n",
              "    [theme=dark] .colab-df-convert {\n",
              "      background-color: #3B4455;\n",
              "      fill: #D2E3FC;\n",
              "    }\n",
              "\n",
              "    [theme=dark] .colab-df-convert:hover {\n",
              "      background-color: #434B5C;\n",
              "      box-shadow: 0px 1px 3px 1px rgba(0, 0, 0, 0.15);\n",
              "      filter: drop-shadow(0px 1px 2px rgba(0, 0, 0, 0.3));\n",
              "      fill: #FFFFFF;\n",
              "    }\n",
              "  </style>\n",
              "\n",
              "      <script>\n",
              "        const buttonEl =\n",
              "          document.querySelector('#df-abcc7a7d-0a1a-46ae-a14a-d07a892a24b5 button.colab-df-convert');\n",
              "        buttonEl.style.display =\n",
              "          google.colab.kernel.accessAllowed ? 'block' : 'none';\n",
              "\n",
              "        async function convertToInteractive(key) {\n",
              "          const element = document.querySelector('#df-abcc7a7d-0a1a-46ae-a14a-d07a892a24b5');\n",
              "          const dataTable =\n",
              "            await google.colab.kernel.invokeFunction('convertToInteractive',\n",
              "                                                     [key], {});\n",
              "          if (!dataTable) return;\n",
              "\n",
              "          const docLinkHtml = 'Like what you see? Visit the ' +\n",
              "            '<a target=\"_blank\" href=https://colab.research.google.com/notebooks/data_table.ipynb>data table notebook</a>'\n",
              "            + ' to learn more about interactive tables.';\n",
              "          element.innerHTML = '';\n",
              "          dataTable['output_type'] = 'display_data';\n",
              "          await google.colab.output.renderOutput(dataTable, element);\n",
              "          const docLink = document.createElement('div');\n",
              "          docLink.innerHTML = docLinkHtml;\n",
              "          element.appendChild(docLink);\n",
              "        }\n",
              "      </script>\n",
              "    </div>\n",
              "  </div>\n",
              "  "
            ]
          },
          "metadata": {},
          "execution_count": 1109
        }
      ]
    },
    {
      "cell_type": "markdown",
      "source": [
        "**Extra Dataset Through Graphs**\n",
        "\n",
        "**Plot the top 5 most popular movies**\n",
        "\n",
        "\n"
      ],
      "metadata": {
        "id": "SvmVGkYdlXLC"
      }
    },
    {
      "cell_type": "code",
      "source": [
        "popoular_movie = movies['popularity'].idxmax()\n",
        "movies.loc[popoular_movie, ['title', 'revenue', 'release_date', 'vote_average']]"
      ],
      "metadata": {
        "colab": {
          "base_uri": "https://localhost:8080/"
        },
        "id": "QEzEveGrP8Cj",
        "outputId": "e9d07453-2187-4355-8210-11cf51447a50"
      },
      "execution_count": null,
      "outputs": [
        {
          "output_type": "execute_result",
          "data": {
            "text/plain": [
              "title                       Minions\n",
              "revenue                  1156730962\n",
              "release_date    2015-06-17 00:00:00\n",
              "vote_average                    6.4\n",
              "Name: 546, dtype: object"
            ]
          },
          "metadata": {},
          "execution_count": 1110
        }
      ]
    },
    {
      "cell_type": "code",
      "source": [
        "sort_movies_data = movies.sort_values('popularity', ascending=False)#we will first sort top 5 movies\n",
        "top_5_popular_movies = sort_movies_data.head(5)#show those 5 movies\n",
        "plt.bar(top_5_popular_movies['title'], top_5_popular_movies['popularity'],width=0.3)\n",
        "plt.xlabel('Movie Title')\n",
        "plt.ylabel('Popularity')\n",
        "plt.title('Top 5 Most Popular Movies')\n",
        "plt.xticks(rotation=45)#this will rotate the titles a bit so they don't overwrite each other\n",
        "plt.show()"
      ],
      "metadata": {
        "colab": {
          "base_uri": "https://localhost:8080/",
          "height": 587
        },
        "id": "lntkvy7ms8PB",
        "outputId": "d7662922-59e2-4049-959b-906a51819b18"
      },
      "execution_count": null,
      "outputs": [
        {
          "output_type": "display_data",
          "data": {
            "text/plain": [
              "<Figure size 640x480 with 1 Axes>"
            ],
            "image/png": "[encoded data removed]"
          },
          "metadata": {}
        }
      ]
    },
    {
      "cell_type": "markdown",
      "source": [
        "**Top 5 Most profited movie**"
      ],
      "metadata": {
        "id": "YmHBCOIjleXB"
      }
    },
    {
      "cell_type": "code",
      "source": [
        "profited_movie = movies['profit'].idxmax()\n",
        "movies.loc[profited_movie, ['title', 'revenue', 'release_date', 'vote_average','profit']]"
      ],
      "metadata": {
        "colab": {
          "base_uri": "https://localhost:8080/"
        },
        "id": "VqS_XG5wskbG",
        "outputId": "13b1e500-4e28-4295-b6c7-2296f40df6d4"
      },
      "execution_count": null,
      "outputs": [
        {
          "output_type": "execute_result",
          "data": {
            "text/plain": [
              "title                        Avatar\n",
              "revenue                  2787965087\n",
              "release_date    2009-12-10 00:00:00\n",
              "vote_average                    7.2\n",
              "profit                   2550965087\n",
              "Name: 0, dtype: object"
            ]
          },
          "metadata": {},
          "execution_count": 1112
        }
      ]
    },
    {
      "cell_type": "code",
      "source": [
        "# Plot the top 5 most profitable movies\n",
        "sorted_profit_data = movies.sort_values('profit', ascending=False)# Get the top 5 most profitable movies\n",
        "top_5_profitable_movies = sorted_profit_data.head(5)\n",
        "plt.bar(top_5_profitable_movies['title'], top_5_profitable_movies['profit'])\n",
        "plt.xlabel('Movie Title')\n",
        "plt.ylabel('Profit')\n",
        "plt.title('Top 5 Most Profitable Movies')\n",
        "plt.xticks(rotation=45)\n",
        "plt.show()"
      ],
      "metadata": {
        "colab": {
          "base_uri": "https://localhost:8080/",
          "height": 536
        },
        "id": "h2Tx5L7fJ4RB",
        "outputId": "770f1bc4-91f8-4c01-9c98-7b92a629a183"
      },
      "execution_count": null,
      "outputs": [
        {
          "output_type": "display_data",
          "data": {
            "text/plain": [
              "<Figure size 640x480 with 1 Axes>"
            ],
            "image/png": "[encoded data removed]"
          },
          "metadata": {}
        }
      ]
    },
    {
      "cell_type": "markdown",
      "source": [
        "**Top 5 movies with the highest budget**"
      ],
      "metadata": {
        "id": "Put8jfPEl4xr"
      }
    },
    {
      "cell_type": "code",
      "source": [
        "budgeted_movie = movies['budget'].idxmax()\n",
        "movies.loc[budgeted_movie, ['title', 'revenue', 'release_date', 'vote_average']]"
      ],
      "metadata": {
        "colab": {
          "base_uri": "https://localhost:8080/"
        },
        "id": "N-3wENG9MYwi",
        "outputId": "2e4c6d2f-e707-485f-ba0a-59c8e6888df0"
      },
      "execution_count": null,
      "outputs": [
        {
          "output_type": "execute_result",
          "data": {
            "text/plain": [
              "title           Pirates of the Caribbean: On Stranger Tides\n",
              "revenue                                          1045713802\n",
              "release_date                            2011-05-14 00:00:00\n",
              "vote_average                                            6.4\n",
              "Name: 17, dtype: object"
            ]
          },
          "metadata": {},
          "execution_count": 1114
        }
      ]
    },
    {
      "cell_type": "code",
      "source": [
        "sorted_budget = movies.sort_values('budget', ascending=False)# Sort the dataset by budget in descending order\n",
        "top_5_movies = sorted_budget.head(5)\n",
        "plt.bar(top_5_movies['title'], top_5_movies['budget'])\n",
        "plt.xlabel('Movie Title')\n",
        "plt.ylabel('Budget')\n",
        "plt.title('Top 5 Movies with Highest Budget')\n",
        "plt.xticks(rotation=90)#angle at which we want you rotate title\n",
        "plt.show()"
      ],
      "metadata": {
        "colab": {
          "base_uri": "https://localhost:8080/",
          "height": 761
        },
        "id": "jdB-ZM6fMHLn",
        "outputId": "1da8eb8d-056f-49fd-fcc7-1f26540943bb"
      },
      "execution_count": null,
      "outputs": [
        {
          "output_type": "display_data",
          "data": {
            "text/plain": [
              "<Figure size 640x480 with 1 Axes>"
            ],
            "image/png": "[encoded data removed]"
          },
          "metadata": {}
        }
      ]
    },
    {
      "cell_type": "markdown",
      "source": [
        "**Split dataset in train-test (80:20 ratio)**"
      ],
      "metadata": {
        "id": "0jPW6JqXzj3P"
      }
    },
    {
      "cell_type": "code",
      "source": [
        "from sklearn.model_selection import train_test_split"
      ],
      "metadata": {
        "id": "Cb1mv_qJ5T67"
      },
      "execution_count": null,
      "outputs": []
    },
    {
      "cell_type": "code",
      "source": [
        "# predict the revenue of a movie based on its budget, popularity, vote average, and vote count\n",
        "X = movies[['budget', 'popularity', 'vote_average', 'vote_count']]\n",
        "Y = movies['revenue']"
      ],
      "metadata": {
        "id": "LbTWnsAs-d6M"
      },
      "execution_count": null,
      "outputs": []
    },
    {
      "cell_type": "code",
      "source": [
        "X_train, X_test, Y_train, Y_test = train_test_split(X, Y, test_size=0.2, random_state = 42)"
      ],
      "metadata": {
        "id": "L2GdQej06xpm"
      },
      "execution_count": null,
      "outputs": []
    },
    {
      "cell_type": "code",
      "source": [
        "X_train.shape, Y_train.shape"
      ],
      "metadata": {
        "colab": {
          "base_uri": "https://localhost:8080/"
        },
        "id": "ZzH4VvL9_MgW",
        "outputId": "2843c656-670d-4b07-c5be-6a2fca409e45"
      },
      "execution_count": null,
      "outputs": [
        {
          "output_type": "execute_result",
          "data": {
            "text/plain": [
              "((3840, 4), (3840,))"
            ]
          },
          "metadata": {},
          "execution_count": 1119
        }
      ]
    },
    {
      "cell_type": "code",
      "source": [
        "X_test.shape, Y_test.shape"
      ],
      "metadata": {
        "colab": {
          "base_uri": "https://localhost:8080/"
        },
        "id": "yuMBp0Hh_h3X",
        "outputId": "816f9ad8-1e32-4831-d7f5-c0dd7172565f"
      },
      "execution_count": null,
      "outputs": [
        {
          "output_type": "execute_result",
          "data": {
            "text/plain": [
              "((960, 4), (960,))"
            ]
          },
          "metadata": {},
          "execution_count": 1120
        }
      ]
    },
    {
      "cell_type": "markdown",
      "source": [
        "**Model selection**"
      ],
      "metadata": {
        "id": "6kPal2I7_56s"
      }
    },
    {
      "cell_type": "code",
      "source": [
        "from sklearn.linear_model import LinearRegression\n",
        "from sklearn.metrics import mean_squared_error, r2_score\n",
        "#can be found on sklearn website"
      ],
      "metadata": {
        "id": "wOr1OW_n_jja"
      },
      "execution_count": null,
      "outputs": []
    },
    {
      "cell_type": "code",
      "source": [
        "model = LinearRegression()\n",
        "#creating model"
      ],
      "metadata": {
        "id": "AiB9pmL8AIgK"
      },
      "execution_count": null,
      "outputs": []
    },
    {
      "cell_type": "markdown",
      "source": [
        "**Model training**"
      ],
      "metadata": {
        "id": "yAzYZi2ZAX_5"
      }
    },
    {
      "cell_type": "code",
      "source": [
        "model.fit(X_train, Y_train)"
      ],
      "metadata": {
        "colab": {
          "base_uri": "https://localhost:8080/",
          "height": 75
        },
        "id": "LMflPqccARQ8",
        "outputId": "465f7118-63c4-4caf-8042-8159b42afe97"
      },
      "execution_count": null,
      "outputs": [
        {
          "output_type": "execute_result",
          "data": {
            "text/plain": [
              "LinearRegression()"
            ],
            "text/html": [
              "<style>#sk-container-id-15 {color: black;background-color: white;}#sk-container-id-15 pre{padding: 0;}#sk-container-id-15 div.sk-toggleable {background-color: white;}#sk-container-id-15 label.sk-toggleable__label {cursor: pointer;display: block;width: 100%;margin-bottom: 0;padding: 0.3em;box-sizing: border-box;text-align: center;}#sk-container-id-15 label.sk-toggleable__label-arrow:before {content: \"▸\";float: left;margin-right: 0.25em;color: #696969;}#sk-container-id-15 label.sk-toggleable__label-arrow:hover:before {color: black;}#sk-container-id-15 div.sk-estimator:hover label.sk-toggleable__label-arrow:before {color: black;}#sk-container-id-15 div.sk-toggleable__content {max-height: 0;max-width: 0;overflow: hidden;text-align: left;background-color: #f0f8ff;}#sk-container-id-15 div.sk-toggleable__content pre {margin: 0.2em;color: black;border-radius: 0.25em;background-color: #f0f8ff;}#sk-container-id-15 input.sk-toggleable__control:checked~div.sk-toggleable__content {max-height: 200px;max-width: 100%;overflow: auto;}#sk-container-id-15 input.sk-toggleable__control:checked~label.sk-toggleable__label-arrow:before {content: \"▾\";}#sk-container-id-15 div.sk-estimator input.sk-toggleable__control:checked~label.sk-toggleable__label {background-color: #d4ebff;}#sk-container-id-15 div.sk-label input.sk-toggleable__control:checked~label.sk-toggleable__label {background-color: #d4ebff;}#sk-container-id-15 input.sk-hidden--visually {border: 0;clip: rect(1px 1px 1px 1px);clip: rect(1px, 1px, 1px, 1px);height: 1px;margin: -1px;overflow: hidden;padding: 0;position: absolute;width: 1px;}#sk-container-id-15 div.sk-estimator {font-family: monospace;background-color: #f0f8ff;border: 1px dotted black;border-radius: 0.25em;box-sizing: border-box;margin-bottom: 0.5em;}#sk-container-id-15 div.sk-estimator:hover {background-color: #d4ebff;}#sk-container-id-15 div.sk-parallel-item::after {content: \"\";width: 100%;border-bottom: 1px solid gray;flex-grow: 1;}#sk-container-id-15 div.sk-label:hover label.sk-toggleable__label {background-color: #d4ebff;}#sk-container-id-15 div.sk-serial::before {content: \"\";position: absolute;border-left: 1px solid gray;box-sizing: border-box;top: 0;bottom: 0;left: 50%;z-index: 0;}#sk-container-id-15 div.sk-serial {display: flex;flex-direction: column;align-items: center;background-color: white;padding-right: 0.2em;padding-left: 0.2em;position: relative;}#sk-container-id-15 div.sk-item {position: relative;z-index: 1;}#sk-container-id-15 div.sk-parallel {display: flex;align-items: stretch;justify-content: center;background-color: white;position: relative;}#sk-container-id-15 div.sk-item::before, #sk-container-id-15 div.sk-parallel-item::before {content: \"\";position: absolute;border-left: 1px solid gray;box-sizing: border-box;top: 0;bottom: 0;left: 50%;z-index: -1;}#sk-container-id-15 div.sk-parallel-item {display: flex;flex-direction: column;z-index: 1;position: relative;background-color: white;}#sk-container-id-15 div.sk-parallel-item:first-child::after {align-self: flex-end;width: 50%;}#sk-container-id-15 div.sk-parallel-item:last-child::after {align-self: flex-start;width: 50%;}#sk-container-id-15 div.sk-parallel-item:only-child::after {width: 0;}#sk-container-id-15 div.sk-dashed-wrapped {border: 1px dashed gray;margin: 0 0.4em 0.5em 0.4em;box-sizing: border-box;padding-bottom: 0.4em;background-color: white;}#sk-container-id-15 div.sk-label label {font-family: monospace;font-weight: bold;display: inline-block;line-height: 1.2em;}#sk-container-id-15 div.sk-label-container {text-align: center;}#sk-container-id-15 div.sk-container {/* jupyter's `normalize.less` sets `[hidden] { display: none; }` but bootstrap.min.css set `[hidden] { display: none !important; }` so we also need the `!important` here to be able to override the default hidden behavior on the sphinx rendered scikit-learn.org. See: https://github.com/scikit-learn/scikit-learn/issues/21755 */display: inline-block !important;position: relative;}#sk-container-id-15 div.sk-text-repr-fallback {display: none;}</style><div id=\"sk-container-id-15\" class=\"sk-top-container\"><div class=\"sk-text-repr-fallback\"><pre>LinearRegression()</pre><b>In a Jupyter environment, please rerun this cell to show the HTML representation or trust the notebook. <br />On GitHub, the HTML representation is unable to render, please try loading this page with nbviewer.org.</b></div><div class=\"sk-container\" hidden><div class=\"sk-item\"><div class=\"sk-estimator sk-toggleable\"><input class=\"sk-toggleable__control sk-hidden--visually\" id=\"sk-estimator-id-15\" type=\"checkbox\" checked><label for=\"sk-estimator-id-15\" class=\"sk-toggleable__label sk-toggleable__label-arrow\">LinearRegression</label><div class=\"sk-toggleable__content\"><pre>LinearRegression()</pre></div></div></div></div></div>"
            ]
          },
          "metadata": {},
          "execution_count": 1123
        }
      ]
    },
    {
      "cell_type": "code",
      "source": [
        "model.coef_"
      ],
      "metadata": {
        "colab": {
          "base_uri": "https://localhost:8080/"
        },
        "id": "A7JebpGfMBks",
        "outputId": "a2bf1be7-a6f1-4845-dbdc-0f0cb4af2c48"
      },
      "execution_count": null,
      "outputs": [
        {
          "output_type": "execute_result",
          "data": {
            "text/plain": [
              "array([ 1.68879355e+00,  4.24878153e+05, -1.44681403e+05,  6.81400227e+04])"
            ]
          },
          "metadata": {},
          "execution_count": 1124
        }
      ]
    },
    {
      "cell_type": "code",
      "source": [
        "model.intercept_"
      ],
      "metadata": {
        "colab": {
          "base_uri": "https://localhost:8080/"
        },
        "id": "BBK8biGGB8MT",
        "outputId": "0dd47f5a-2eaf-4f99-c3a4-4a8130d96602"
      },
      "execution_count": null,
      "outputs": [
        {
          "output_type": "execute_result",
          "data": {
            "text/plain": [
              "-30154029.308456615"
            ]
          },
          "metadata": {},
          "execution_count": 1125
        }
      ]
    },
    {
      "cell_type": "markdown",
      "source": [
        "**Model evaluation and Make Prediction**\n"
      ],
      "metadata": {
        "id": "gtj4k0knBZ4F"
      }
    },
    {
      "cell_type": "code",
      "source": [
        "model.score(X_train,Y_train)"
      ],
      "metadata": {
        "colab": {
          "base_uri": "https://localhost:8080/"
        },
        "id": "n5vl0e3IB9Tw",
        "outputId": "1aaacaa5-2dbf-482a-a151-a5b42d72a055"
      },
      "execution_count": null,
      "outputs": [
        {
          "output_type": "execute_result",
          "data": {
            "text/plain": [
              "0.7106196444600502"
            ]
          },
          "metadata": {},
          "execution_count": 1126
        }
      ]
    },
    {
      "cell_type": "code",
      "source": [
        "X_train.shape, X_test.shape"
      ],
      "metadata": {
        "colab": {
          "base_uri": "https://localhost:8080/"
        },
        "id": "AJ7IpXWsRHEO",
        "outputId": "e1690e81-d4bd-4288-e807-8c19006abec0"
      },
      "execution_count": null,
      "outputs": [
        {
          "output_type": "execute_result",
          "data": {
            "text/plain": [
              "((3840, 4), (960, 4))"
            ]
          },
          "metadata": {},
          "execution_count": 1127
        }
      ]
    },
    {
      "cell_type": "markdown",
      "source": [
        " **ACCURACY**"
      ],
      "metadata": {
        "id": "TM7JDuo_zHBE"
      }
    },
    {
      "cell_type": "code",
      "source": [
        "accuracy = model.score(X_test,Y_test)\n",
        "accuracy\n",
        "#accuracy value of 0.7596 suggests that the model's performance is approximately 75.96%"
      ],
      "metadata": {
        "colab": {
          "base_uri": "https://localhost:8080/"
        },
        "id": "Cci3VqAHCapr",
        "outputId": "2aaf9f17-d84e-48b6-9e0a-9dcf73d9f0d7"
      },
      "execution_count": null,
      "outputs": [
        {
          "output_type": "execute_result",
          "data": {
            "text/plain": [
              "0.7596080016414595"
            ]
          },
          "metadata": {},
          "execution_count": 1128
        }
      ]
    },
    {
      "cell_type": "code",
      "source": [
        "# Model evaluation\n",
        "Y_train_pred = model.predict(X_train)\n",
        "Y_train_pred"
      ],
      "metadata": {
        "id": "EWEaFT97wmVx",
        "colab": {
          "base_uri": "https://localhost:8080/"
        },
        "outputId": "0ca7e4c2-68ba-4e99-d4f7-7f21ff47799a"
      },
      "execution_count": null,
      "outputs": [
        {
          "output_type": "execute_result",
          "data": {
            "text/plain": [
              "array([ 2.15854647e+06,  1.74001683e+07, -2.35671506e+07, ...,\n",
              "        1.36439218e+07,  2.40480971e+06,  1.10489756e+08])"
            ]
          },
          "metadata": {},
          "execution_count": 1129
        }
      ]
    },
    {
      "cell_type": "code",
      "source": [
        "#prediction of this model\n",
        "Y_test_pred = model.predict(X_test)\n",
        "Y_test_pred"
      ],
      "metadata": {
        "colab": {
          "base_uri": "https://localhost:8080/"
        },
        "id": "hhZiQM_8qxPJ",
        "outputId": "1e86944c-0564-43e3-a1b9-16cfde7a1ec6"
      },
      "execution_count": null,
      "outputs": [
        {
          "output_type": "execute_result",
          "data": {
            "text/plain": [
              "array([ 1.11275969e+08,  1.05891290e+07,  1.72858185e+07, -7.53051465e+06,\n",
              "        7.93653204e+08,  1.88443762e+08,  1.18235880e+07,  1.90211027e+08,\n",
              "        1.10853722e+07,  1.04662654e+08, -1.05522247e+07,  1.00871245e+07,\n",
              "        1.20849377e+07,  7.57107811e+07,  2.91073780e+08,  1.79548054e+08,\n",
              "        1.59152459e+07,  2.37681759e+08,  2.45609153e+07, -2.36436722e+07,\n",
              "        6.45408486e+07,  1.26533935e+08,  9.74992627e+06,  4.12411777e+06,\n",
              "        7.78942818e+07,  1.75102981e+08,  5.87418446e+06,  8.45553486e+07,\n",
              "        5.12223138e+07,  1.63424670e+08, -2.91641398e+07,  1.33203205e+07,\n",
              "        3.90506845e+08,  1.57171789e+06,  8.04046112e+06, -4.58818819e+06,\n",
              "        3.80042004e+08,  2.09640414e+08,  7.91468558e+07,  1.90142776e+05,\n",
              "        5.65413683e+08,  3.01685149e+08, -6.53751070e+06,  8.06183963e+08,\n",
              "       -2.74975767e+07,  2.50728178e+08,  2.77171562e+07, -2.45195484e+07,\n",
              "        2.33038676e+08,  6.99359422e+07,  2.28784185e+07, -5.86772721e+06,\n",
              "        1.48173711e+06,  1.50276972e+08,  6.36930860e+07,  8.07637357e+06,\n",
              "        9.78421833e+07,  8.82433801e+07, -2.52805928e+07,  2.71621156e+07,\n",
              "       -2.98768314e+07,  1.17422810e+08,  5.40665303e+07,  1.10675082e+08,\n",
              "        2.87651339e+08, -2.15149541e+07, -8.51270351e+06,  4.11618712e+07,\n",
              "       -1.56685190e+07,  2.46875656e+07,  1.89265191e+07,  6.05949231e+07,\n",
              "        9.42945558e+07,  1.37546897e+08,  2.46630212e+08,  8.59568949e+07,\n",
              "       -1.94213511e+07,  9.10895011e+07, -7.11079775e+06,  1.05106248e+08,\n",
              "        1.52490442e+08, -3.01551480e+07,  1.58059056e+08,  1.28299837e+08,\n",
              "        1.10622709e+07,  2.90180308e+07, -2.63785019e+07,  1.39454253e+08,\n",
              "        1.52979189e+08,  7.02829651e+07,  1.20482103e+08,  2.21874035e+07,\n",
              "        1.22277341e+07,  1.17849236e+09,  3.03297194e+07,  7.96705355e+08,\n",
              "        1.10702745e+08, -9.66643947e+06,  3.33151920e+07, -4.34757222e+06,\n",
              "        2.88401300e+07,  1.80637794e+08,  8.43335466e+06,  1.80137819e+08,\n",
              "        1.02465434e+08,  1.13957643e+08, -2.90202278e+07,  3.51758216e+08,\n",
              "        2.21620090e+07, -2.23147329e+07, -1.26017456e+07,  8.35265976e+06,\n",
              "        8.77100907e+06,  2.63281145e+07,  5.26812532e+07,  3.17917669e+07,\n",
              "        1.37153890e+07, -6.33456596e+06,  2.48894942e+07,  8.51160533e+07,\n",
              "        8.47673258e+06,  1.36954738e+08,  1.07849472e+07,  7.25535208e+07,\n",
              "       -6.33495095e+06,  1.25295180e+07, -1.77467092e+07,  8.60634613e+08,\n",
              "        1.91446456e+08,  1.36679042e+06,  1.01153442e+07, -2.50697167e+07,\n",
              "        5.64493215e+06,  2.25435050e+08, -3.30879801e+06, -2.27907710e+07,\n",
              "        1.67258232e+07,  1.99603717e+08,  7.51246430e+07,  8.82749492e+06,\n",
              "        1.46500394e+07, -1.43904155e+07,  1.06587978e+08, -9.31633638e+06,\n",
              "       -2.79244823e+07,  3.38966399e+08,  1.44199029e+07,  2.09755540e+07,\n",
              "        8.28407850e+07,  3.06894404e+08, -3.03787440e+07,  9.49223177e+07,\n",
              "        1.52264104e+08,  8.83867359e+06,  1.39847439e+07,  2.75868591e+07,\n",
              "        1.80154442e+08,  7.68896794e+08,  3.21127441e+07,  3.15526999e+08,\n",
              "        1.09502741e+07,  4.20224124e+07,  9.72990145e+06,  8.05579475e+06,\n",
              "        1.33591213e+07,  2.96095016e+07,  1.17001769e+08,  5.53559760e+07,\n",
              "        6.88080065e+07,  3.75672628e+08,  1.33021055e+07,  9.79178233e+06,\n",
              "        6.31229499e+07,  2.53435265e+07,  2.41646480e+07,  3.19388449e+08,\n",
              "        1.85194462e+08,  3.79531213e+08,  5.26102085e+07,  9.54832673e+06,\n",
              "        1.14591083e+08,  1.31862716e+08,  8.63779558e+06, -1.02943711e+06,\n",
              "        6.49931186e+06,  3.58006207e+08, -1.15769703e+07,  2.06601430e+07,\n",
              "        3.41926419e+07,  7.56842323e+07,  1.13027300e+08, -2.11329363e+07,\n",
              "        2.34059324e+08,  3.25481154e+07,  5.45582189e+07,  9.68703122e+08,\n",
              "        3.74253266e+07,  2.64802578e+06,  5.36385802e+07,  1.75385342e+07,\n",
              "        1.15494619e+08,  1.08886251e+07,  3.55377007e+07,  2.22642661e+07,\n",
              "        3.65053854e+07,  8.74035666e+06,  1.50795814e+08,  2.77516145e+07,\n",
              "        2.76026750e+07,  1.01565642e+07, -1.77518066e+07,  4.74362896e+07,\n",
              "       -8.84434151e+06,  9.06261989e+07,  9.43292366e+06,  2.96696881e+08,\n",
              "        3.02583207e+08,  1.19026470e+08,  1.98727957e+08,  4.61535071e+07,\n",
              "       -1.06237209e+07,  7.47369451e+07,  1.93324240e+08, -1.46351628e+06,\n",
              "        1.92654916e+08,  1.10279468e+07,  9.49523368e+07,  1.77947232e+08,\n",
              "        6.31456574e+07, -2.68564428e+07,  5.25363937e+06,  1.05347454e+08,\n",
              "        8.24475034e+07,  4.72032884e+08,  1.38695298e+08,  2.76495661e+08,\n",
              "        4.15547549e+08,  9.73426645e+07,  5.14230881e+07,  1.73022414e+07,\n",
              "        5.59010507e+07,  1.91487993e+07, -2.38264940e+07,  6.78429469e+07,\n",
              "        4.62279348e+08, -9.51247340e+06,  8.32125897e+07,  3.35192329e+07,\n",
              "        6.68074871e+07, -2.94241193e+07,  7.26021836e+08,  1.43377105e+08,\n",
              "        3.62170126e+07,  1.35158628e+07,  7.78315095e+07, -2.83223208e+07,\n",
              "        2.03493702e+07, -4.37412951e+06,  1.35728338e+08, -8.63340876e+06,\n",
              "        3.00759865e+06, -2.34223371e+07,  1.19097817e+07,  2.56288322e+08,\n",
              "        2.84458705e+07,  1.06351437e+07,  2.89152759e+08, -3.20505281e+05,\n",
              "       -1.61883149e+07, -1.11139766e+07,  1.82991940e+08,  1.09125427e+08,\n",
              "        5.16139397e+07,  5.14683099e+07,  1.18717639e+07,  1.22008911e+07,\n",
              "        1.26535783e+07,  9.48095852e+07,  7.13988391e+07,  8.40436892e+07,\n",
              "        1.26489250e+07, -2.88754130e+06,  6.06219791e+07,  1.38187570e+08,\n",
              "       -2.33012718e+07,  1.20784083e+07, -1.96735184e+07, -1.24986670e+07,\n",
              "        4.88381569e+07,  1.61188321e+07,  6.55096481e+07,  1.48453527e+08,\n",
              "        7.24802412e+07,  2.28508593e+07,  4.56165711e+07, -1.78375818e+07,\n",
              "        5.05112910e+08,  5.68259809e+07,  8.17064998e+07,  2.36962210e+07,\n",
              "        1.53299624e+07,  6.41412011e+07,  2.83840760e+07,  2.16497953e+07,\n",
              "        1.22326031e+08,  1.12593726e+08, -2.68372911e+07,  6.74328311e+07,\n",
              "        1.21417043e+07,  7.30983701e+07,  1.40355427e+08,  1.28761433e+08,\n",
              "       -2.71973587e+07,  4.12671833e+08,  1.03540617e+08,  5.49841495e+06,\n",
              "        7.46101534e+06,  1.90441889e+08,  9.45862949e+06, -2.16695383e+07,\n",
              "        2.15217903e+07, -1.96619316e+07,  7.02009164e+06,  8.70464255e+06,\n",
              "        4.32041502e+08,  2.75605737e+07,  4.18217268e+07,  1.26836058e+08,\n",
              "        2.72918057e+07,  1.90477375e+08,  7.35900720e+06,  6.48114439e+07,\n",
              "       -1.24097583e+07,  7.26368269e+07,  2.32945323e+08,  1.07928764e+08,\n",
              "       -2.91348699e+07,  6.96843155e+07,  7.96820257e+07,  2.94040812e+08,\n",
              "       -2.86759557e+07,  1.11906060e+08,  1.58837905e+08, -1.76212442e+07,\n",
              "       -2.48194097e+07,  2.68791736e+08,  3.90159710e+07,  7.17121721e+07,\n",
              "        2.10108690e+07, -4.74678543e+06,  6.21917441e+07,  3.80783900e+07,\n",
              "        8.64258902e+08, -2.54458809e+06,  1.01983250e+08,  1.09681829e+08,\n",
              "        5.68418148e+07,  1.38829594e+08,  1.74307060e+07,  5.47025870e+07,\n",
              "        9.09792459e+07,  4.08130508e+07,  7.17371244e+07, -6.18257843e+06,\n",
              "       -2.77662628e+07,  6.63018287e+07, -1.33812209e+06, -1.06835107e+07,\n",
              "       -1.43995930e+07,  1.83113426e+07,  3.11229327e+08,  1.05060123e+07,\n",
              "        1.15634857e+07,  1.02239157e+07, -8.76242909e+06,  4.97038451e+07,\n",
              "        1.70600699e+08,  2.70418788e+08,  3.67811474e+06,  2.29243809e+07,\n",
              "        3.65278783e+07,  7.71822010e+07,  4.91204338e+08,  2.01267596e+08,\n",
              "        1.33565579e+08,  5.76373069e+07,  2.14883527e+07,  3.19937720e+07,\n",
              "        1.80863059e+08,  8.62824180e+07,  6.63682590e+07,  1.27522890e+07,\n",
              "        9.15958233e+07, -6.73429031e+06,  3.43019146e+08,  8.56232480e+07,\n",
              "        1.41369985e+07,  1.96843374e+07, -2.36357120e+07,  3.25458613e+07,\n",
              "        2.96452823e+08, -4.68760986e+05, -7.97253771e+06,  6.23952867e+08,\n",
              "        1.01708097e+08,  2.20357592e+08,  2.53790401e+08,  7.66881882e+07,\n",
              "        8.68923617e+06,  1.30007453e+08, -1.00461165e+07,  2.69165009e+08,\n",
              "        8.94565624e+06,  9.06630570e+07,  1.15239426e+07,  1.74899658e+07,\n",
              "       -1.52536602e+07,  7.05529147e+07,  1.66326862e+07,  1.27083847e+07,\n",
              "        1.59697900e+08,  3.93134315e+07, -3.01665756e+07,  7.43233833e+07,\n",
              "        3.46789657e+06,  1.58403974e+07,  1.07716425e+07,  1.56095914e+08,\n",
              "        1.59443548e+07, -4.50914283e+06,  1.70690690e+08, -7.83141817e+05,\n",
              "       -1.27143164e+07, -5.20379524e+06,  4.88100721e+08,  8.74809149e+06,\n",
              "        2.47116570e+07,  8.34833776e+06,  1.97548229e+07,  1.37432591e+08,\n",
              "        2.87294450e+07, -1.70802813e+07,  2.10026789e+08,  5.01846320e+07,\n",
              "        5.78520655e+07,  1.51336182e+07,  4.53963148e+07,  2.73722953e+06,\n",
              "        9.09506159e+06,  9.64664505e+06,  4.82263878e+08,  1.00535278e+09,\n",
              "        9.27158268e+06, -1.11513993e+07, -2.82290007e+07,  3.77933828e+07,\n",
              "       -8.60161863e+06,  8.01144404e+07,  7.47381937e+07,  1.28229191e+08,\n",
              "        1.81368809e+08,  6.52241735e+07,  1.13294438e+08,  9.48153764e+06,\n",
              "        9.22865399e+07,  1.01569444e+07,  1.32166056e+07,  1.75037502e+07,\n",
              "        4.20629556e+08,  5.99218045e+06,  2.87844290e+07,  8.69372119e+06,\n",
              "        4.24489249e+07,  1.42571527e+07,  1.42253037e+07,  1.44341156e+07,\n",
              "        7.57671655e+07,  8.97113032e+07,  8.27057297e+06,  1.13001448e+08,\n",
              "        4.05433778e+07, -6.82648680e+06, -7.58750202e+06,  3.91751056e+07,\n",
              "        8.69045557e+06,  3.99324053e+08,  2.77337782e+08,  1.82034739e+07,\n",
              "       -2.25915467e+07, -1.40545182e+07,  7.25620464e+05,  1.79490207e+08,\n",
              "        1.20338370e+07, -2.54774339e+07,  7.89014876e+06, -1.37768218e+07,\n",
              "        1.21044137e+08,  2.74902678e+08,  8.27784490e+07, -3.30829067e+06,\n",
              "        1.05056996e+08,  3.54976233e+08,  4.43214129e+06,  3.57677532e+07,\n",
              "        1.06576886e+08,  3.83922506e+07,  8.71968834e+06,  1.45527219e+08,\n",
              "        3.96526513e+06,  6.00636736e+07,  2.40090842e+08, -2.67041724e+07,\n",
              "        6.23538189e+08,  1.49561147e+08,  1.97953250e+08,  3.32106190e+07,\n",
              "        3.54106458e+07,  1.01411616e+07,  1.75488109e+08,  5.92519951e+07,\n",
              "        1.43585240e+07,  1.40889074e+08, -2.58673824e+07,  2.14343855e+08,\n",
              "        8.72566382e+06,  8.57923812e+06,  4.23206976e+07,  4.52398184e+07,\n",
              "        1.62636042e+08, -1.41275791e+07,  3.64355976e+08,  1.65721685e+08,\n",
              "        6.88749520e+07,  1.23652879e+07, -4.02609743e+06,  4.90479195e+08,\n",
              "        4.66115169e+06, -5.61116864e+06,  2.70196663e+07,  1.66161688e+07,\n",
              "        4.21501960e+07,  3.76675045e+08,  7.86665467e+06,  1.70703745e+07,\n",
              "        8.43095728e+07,  4.63130678e+06,  2.10303266e+08,  9.07673955e+06,\n",
              "       -2.32124944e+07,  4.98788877e+08,  1.13781769e+07,  1.07195899e+08,\n",
              "        1.02078467e+08,  9.96327355e+06, -1.45832891e+07, -2.60779471e+07,\n",
              "        1.91141322e+07,  4.09713726e+08, -2.69957969e+07,  9.84064064e+07,\n",
              "        9.83426533e+07, -1.69720717e+07,  2.43073310e+07,  1.63362237e+08,\n",
              "        7.72160324e+07,  2.49097732e+07,  5.53753746e+08, -1.95822748e+07,\n",
              "        2.70174246e+06, -1.75651218e+07, -5.30528484e+06, -1.20441305e+07,\n",
              "        6.81988917e+07,  2.02085042e+07,  1.25883302e+07, -1.76198175e+07,\n",
              "        9.97369393e+06,  6.77016340e+07,  1.75958875e+07,  6.25697228e+08,\n",
              "        1.77056224e+08,  3.36439534e+07,  8.70554755e+06,  7.56426216e+07,\n",
              "       -2.82010264e+07,  1.84144667e+08,  1.02737172e+08, -1.71277531e+07,\n",
              "        2.28280897e+07,  5.97780767e+07,  2.04121061e+07,  2.37082688e+07,\n",
              "        2.99320615e+05, -6.14305272e+06,  1.55133631e+08, -1.42117652e+07,\n",
              "        1.21506474e+08,  1.78665111e+08,  7.38802236e+07,  1.16914797e+08,\n",
              "       -1.00609144e+06,  8.43109713e+07,  1.09482823e+08,  3.00907709e+07,\n",
              "        6.52516362e+06,  1.13149732e+08,  3.08241490e+07,  1.99095564e+08,\n",
              "        6.79217007e+07,  2.92324759e+08,  8.64496228e+06,  7.20263684e+08,\n",
              "       -2.15911855e+07,  2.35219961e+07, -8.50660418e+06,  1.35143103e+07,\n",
              "       -1.62927133e+07,  4.12118628e+07,  9.05830319e+06,  6.16848844e+07,\n",
              "        9.55705354e+06,  4.46558619e+07,  1.18315658e+08,  8.94009910e+06,\n",
              "       -1.62029473e+07,  5.00474625e+07,  3.95518912e+07,  1.92250646e+08,\n",
              "        1.75761917e+07,  8.44932155e+06,  3.63110023e+07,  7.88769202e+07,\n",
              "       -1.25125904e+07, -2.09548001e+07,  8.95913588e+07,  8.50038839e+06,\n",
              "        2.22697024e+07, -1.95925815e+07,  1.21288430e+08,  7.38828470e+06,\n",
              "        8.67168943e+06,  1.14636213e+08,  1.22707810e+08,  4.43303629e+08,\n",
              "        1.42843036e+07,  8.17744047e+07,  2.23600467e+07,  2.74769742e+07,\n",
              "        2.13963699e+08,  1.34580366e+08,  6.40438111e+06,  9.42151916e+06,\n",
              "        5.78592847e+07,  3.41590585e+07, -2.82350950e+07,  1.95406115e+07,\n",
              "        9.17651137e+06,  7.66759331e+08, -1.15757490e+07,  1.26323004e+07,\n",
              "        1.09474432e+07,  1.30732938e+07,  1.39172570e+08, -1.56449857e+07,\n",
              "        1.56065090e+08, -1.31869323e+07, -1.39344395e+07,  1.28405310e+07,\n",
              "        1.27624227e+08, -1.13842720e+07,  1.66465578e+07,  1.40640056e+08,\n",
              "        1.02299409e+08,  2.06836204e+08,  3.94748487e+08,  5.98415353e+06,\n",
              "       -2.63540393e+07,  1.01157576e+08, -8.29954254e+06, -3.01290140e+07,\n",
              "        4.46710769e+07,  2.47642830e+07,  1.98434339e+07,  1.23435744e+08,\n",
              "        1.10118355e+08, -2.21456232e+07,  3.16559329e+07,  9.31075534e+07,\n",
              "        6.56901819e+07,  1.54047558e+07, -2.91430106e+07,  2.62717300e+07,\n",
              "       -1.30485640e+07,  1.87872892e+07,  1.06129209e+07,  1.35252191e+07,\n",
              "        1.27363211e+08,  6.36402431e+06,  3.65789886e+07, -1.15993319e+07,\n",
              "       -1.88041838e+07,  2.23225278e+08,  2.02042552e+06, -3.07872991e+07,\n",
              "        5.31931434e+08, -2.19600348e+07,  8.42956151e+07,  3.05116223e+07,\n",
              "        1.82103866e+07,  5.54238981e+07,  8.34270228e+07,  1.78254438e+08,\n",
              "        3.48325781e+08,  1.24118276e+07,  6.79962440e+07,  5.88332348e+07,\n",
              "        9.34759127e+07,  5.55846959e+07,  8.76072261e+07,  8.31935648e+06,\n",
              "        8.54496703e+08,  2.03890680e+08,  1.43236984e+07,  1.24714527e+09,\n",
              "        4.27548738e+07,  3.87213431e+08,  9.35135606e+07,  8.24345620e+07,\n",
              "        9.25237199e+06,  8.44944227e+06,  8.42040020e+06,  1.25077588e+07,\n",
              "        4.34794662e+07,  7.85623654e+06,  1.54461210e+07,  5.46312885e+07,\n",
              "        2.53398963e+07,  1.08801123e+08,  1.32453460e+08,  1.56427741e+08,\n",
              "        8.28149918e+06,  3.29675877e+07,  4.38114174e+06,  1.36026261e+08,\n",
              "        3.15768394e+07, -3.68891976e+06,  3.03018857e+07,  4.56402343e+08,\n",
              "        4.50278283e+07,  1.90958657e+07,  7.23565885e+07,  2.87998651e+07,\n",
              "        1.98191533e+07,  1.17634035e+08,  2.48784126e+08,  3.42195942e+07,\n",
              "       -9.69458814e+06,  2.37899675e+07,  2.75401020e+07,  5.84788256e+08,\n",
              "        7.98584832e+06,  1.04729949e+07,  8.31407492e+06,  1.84500927e+07,\n",
              "        8.66391708e+06,  2.10833082e+08,  1.71354846e+07,  1.66234330e+07,\n",
              "        3.51138192e+07,  1.59095581e+07,  8.78908307e+06, -2.46080970e+07,\n",
              "        8.75453903e+06,  8.37694711e+06,  9.00655612e+06,  1.07652135e+08,\n",
              "        4.09277224e+07,  7.34197497e+06,  5.35565734e+07,  8.86116057e+06,\n",
              "        2.45656010e+08,  3.84353701e+07,  2.69585110e+08,  3.41904259e+07,\n",
              "        3.12830092e+07,  1.04929941e+07,  6.22588121e+08, -1.11138173e+07,\n",
              "        9.42146217e+06, -1.35995098e+07, -1.91151266e+06, -2.60413396e+06,\n",
              "        8.79642146e+06,  4.20752972e+07,  8.96548168e+06,  9.39377729e+07,\n",
              "        1.38572809e+08,  9.15876039e+06, -8.67076220e+06,  1.43725880e+07,\n",
              "        9.22383237e+06,  1.12812452e+07,  5.06173862e+07, -1.20734143e+07,\n",
              "        2.08119682e+07,  1.48740755e+07,  1.56754779e+08,  1.40035550e+07,\n",
              "        1.33449269e+08,  9.10193415e+07,  4.19937568e+08,  1.30586999e+07,\n",
              "       -1.68571685e+07, -9.89543808e+06,  3.17266968e+06,  1.55883602e+08,\n",
              "        1.29551968e+09,  8.68822241e+06,  1.33092026e+07, -2.70121864e+07,\n",
              "        1.21994226e+07,  6.92412950e+06,  5.01353973e+08,  1.15143872e+08,\n",
              "        1.18882986e+08,  8.72130895e+06, -1.55614005e+07,  1.98444230e+07,\n",
              "        1.56996165e+07, -3.75063103e+06,  3.47091103e+08,  8.50126410e+07,\n",
              "        9.67562865e+06,  2.43046963e+07, -3.00548219e+07, -1.91790835e+07,\n",
              "        2.53720837e+07,  4.55738303e+07,  6.84814319e+07,  1.39704179e+07,\n",
              "        3.54831423e+07, -2.67304333e+07,  9.47513132e+06, -2.23198406e+07,\n",
              "        1.27475667e+07,  9.39667306e+08,  3.75483657e+07,  1.80548795e+08,\n",
              "        1.98845835e+07,  2.39902979e+07,  1.04249508e+08,  6.34588017e+07,\n",
              "        1.41784561e+08, -2.09566025e+07,  2.94210281e+07, -2.57604524e+07,\n",
              "        8.63766239e+07,  2.26942010e+07,  8.07440190e+07,  9.59924242e+07,\n",
              "        1.62470860e+08,  1.89908241e+08, -8.68246917e+05,  3.27322289e+08,\n",
              "        4.79351932e+08,  2.08953472e+08,  1.54052639e+07,  2.57960927e+07,\n",
              "        8.49622773e+06,  1.07545222e+07,  2.86370119e+08,  8.97805340e+06,\n",
              "        5.26728084e+07,  2.40940356e+08, -2.91675074e+07,  4.89442557e+07,\n",
              "        2.78152875e+07,  8.40357225e+06,  1.60686930e+08,  9.41638328e+06,\n",
              "        6.52131256e+07,  4.39825890e+07,  6.69025078e+07, -2.56174806e+07,\n",
              "        2.90410449e+08,  2.56691888e+07,  3.72643244e+08,  9.52260198e+04,\n",
              "        5.08172914e+07,  1.00224118e+08,  3.26380633e+06,  7.32928065e+06,\n",
              "       -2.60610728e+07,  1.79474549e+08,  4.45903601e+08, -3.01395646e+07,\n",
              "        1.03365504e+07,  2.35986638e+07,  4.41350429e+08,  1.04525193e+08,\n",
              "        8.47740134e+07,  7.93843826e+07,  1.11671360e+07,  6.45212447e+07,\n",
              "        1.67649707e+08, -8.06674394e+06,  3.57951981e+07,  2.00548417e+07,\n",
              "       -1.08399196e+07,  3.03075339e+08,  5.96138650e+07,  1.68387208e+08,\n",
              "        2.60929355e+08, -2.76656398e+07, -7.46302360e+06,  8.72547791e+06,\n",
              "        9.12011218e+07,  4.42485775e+07,  3.18079865e+08, -2.46400702e+07,\n",
              "        1.40787957e+07,  4.66005036e+08,  1.84653852e+08,  8.33965309e+06,\n",
              "        7.49709682e+07,  6.06378385e+07,  7.17728788e+08,  2.40731474e+07,\n",
              "        3.72292038e+07,  7.91727025e+06,  1.84880898e+08,  7.99742027e+07,\n",
              "        8.39659332e+06,  8.19143000e+07,  2.60566590e+07,  5.08316804e+08,\n",
              "        1.38598376e+07,  1.38708473e+08,  2.60296707e+07,  4.13745485e+05,\n",
              "        5.63898554e+08,  1.29258510e+08,  9.93103921e+06, -1.69684241e+07,\n",
              "        6.95781806e+07,  8.41668298e+06,  1.71425211e+07,  4.09785592e+08,\n",
              "        2.33109991e+08,  1.38080635e+08, -1.84681163e+07,  1.86047470e+07,\n",
              "        1.26792341e+08,  4.76231986e+07,  4.15585985e+07,  8.95684668e+06,\n",
              "        2.91224903e+08,  1.64523184e+08,  3.54811881e+07,  1.57734326e+08])"
            ]
          },
          "metadata": {},
          "execution_count": 1130
        }
      ]
    },
    {
      "cell_type": "code",
      "source": [
        "train_ds"
      ],
      "metadata": {
        "colab": {
          "base_uri": "https://localhost:8080/"
        },
        "id": "047gEiDoM8Tm",
        "outputId": "58a57e63-3e9b-4209-962e-dafac4184ad4"
      },
      "execution_count": null,
      "outputs": [
        {
          "output_type": "execute_result",
          "data": {
            "text/plain": [
              "0.7106196444600502"
            ]
          },
          "metadata": {},
          "execution_count": 1131
        }
      ]
    },
    {
      "cell_type": "code",
      "source": [
        "test_ds"
      ],
      "metadata": {
        "colab": {
          "base_uri": "https://localhost:8080/"
        },
        "id": "bjiITuOJM_Rk",
        "outputId": "b48522f4-2020-470e-f901-0e92408d41b1"
      },
      "execution_count": null,
      "outputs": [
        {
          "output_type": "execute_result",
          "data": {
            "text/plain": [
              "0.7596080016414595"
            ]
          },
          "metadata": {},
          "execution_count": 1132
        }
      ]
    },
    {
      "cell_type": "markdown",
      "source": [
        "we will now take an example of movie revenue prediction cause it will show us some correlation with the movie's revenue, which can be seen as an indicator of its success"
      ],
      "metadata": {
        "id": "dc_RrBpG6dFJ"
      }
    },
    {
      "cell_type": "code",
      "source": [
        "exampled_data = [[50000000, 10.5, 7.2, 2000]] #[budget, popularity, vote average, and vote count]\n",
        "predicted_revenue = model.predict(new_data)\n",
        "predicted_revenue"
      ],
      "metadata": {
        "colab": {
          "base_uri": "https://localhost:8080/"
        },
        "id": "9dLA-Rr3JHJG",
        "outputId": "99047a79-b57e-44b2-be4b-49ff047afef3"
      },
      "execution_count": null,
      "outputs": [
        {
          "output_type": "stream",
          "name": "stderr",
          "text": [
            "/usr/local/lib/python3.10/dist-packages/sklearn/base.py:439: UserWarning: X does not have valid feature names, but LinearRegression was fitted with feature names\n",
            "  warnings.warn(\n"
          ]
        },
        {
          "output_type": "execute_result",
          "data": {
            "text/plain": [
              "array([1.93985208e+08])"
            ]
          },
          "metadata": {},
          "execution_count": 1133
        }
      ]
    },
    {
      "cell_type": "markdown",
      "source": [
        "**Summary Report**"
      ],
      "metadata": {
        "id": "OXFYohOKjTAk"
      }
    },
    {
      "cell_type": "code",
      "source": [
        "# Generate summary report using describe() function\n",
        "summary_report = movies.describe()\n",
        "summary_report"
      ],
      "metadata": {
        "id": "eZnAKHYzMncq",
        "colab": {
          "base_uri": "https://localhost:8080/",
          "height": 364
        },
        "outputId": "2f16b87a-9ab2-473f-84fb-15bf6954aafc"
      },
      "execution_count": null,
      "outputs": [
        {
          "output_type": "execute_result",
          "data": {
            "text/plain": [
              "             budget             id   popularity       revenue      runtime  \\\n",
              "count  4.800000e+03    4800.000000  4800.000000  4.800000e+03  4800.000000   \n",
              "mean   3.402478e+07   57198.137708    21.497780  8.229362e+07   107.588750   \n",
              "std    3.820883e+07   88712.646793    31.824607  1.628993e+08    20.791567   \n",
              "min    1.000000e+00       5.000000     0.000000  0.000000e+00     1.000000   \n",
              "25%    1.200000e+07    9019.750000     4.668490  0.000000e+00    94.000000   \n",
              "50%    2.300000e+07   14633.000000    12.924931  1.917498e+07   104.000000   \n",
              "75%    4.000000e+07   58639.500000    28.350628  9.293886e+07   117.250000   \n",
              "max    3.800000e+08  459488.000000   875.581305  2.787965e+09   338.000000   \n",
              "\n",
              "       vote_average    vote_count  release_year  release_month        profit  \n",
              "count   4800.000000   4800.000000   4800.000000    4800.000000  4.800000e+03  \n",
              "mean       6.092083    690.491458   2002.468125       6.793958  4.826884e+07  \n",
              "std        1.194950   1234.911557     12.414417       3.425607  1.381342e+08  \n",
              "min        0.000000      0.000000   1916.000000       1.000000 -1.657101e+08  \n",
              "25%        5.600000     54.000000   1999.000000       4.000000 -2.258784e+07  \n",
              "50%        6.200000    235.500000   2005.000000       7.000000  1.191444e+06  \n",
              "75%        6.800000    737.250000   2011.000000      10.000000  5.489446e+07  \n",
              "max       10.000000  13752.000000   2017.000000      12.000000  2.550965e+09  "
            ],
            "text/html": [
              "\n",
              "  <div id=\"df-35aa45ed-18a8-4804-b0ce-b6dd53c85804\">\n",
              "    <div class=\"colab-df-container\">\n",
              "      <div>\n",
              "<style scoped>\n",
              "    .dataframe tbody tr th:only-of-type {\n",
              "        vertical-align: middle;\n",
              "    }\n",
              "\n",
              "    .dataframe tbody tr th {\n",
              "        vertical-align: top;\n",
              "    }\n",
              "\n",
              "    .dataframe thead th {\n",
              "        text-align: right;\n",
              "    }\n",
              "</style>\n",
              "<table border=\"1\" class=\"dataframe\">\n",
              "  <thead>\n",
              "    <tr style=\"text-align: right;\">\n",
              "      <th></th>\n",
              "      <th>budget</th>\n",
              "      <th>id</th>\n",
              "      <th>popularity</th>\n",
              "      <th>revenue</th>\n",
              "      <th>runtime</th>\n",
              "      <th>vote_average</th>\n",
              "      <th>vote_count</th>\n",
              "      <th>release_year</th>\n",
              "      <th>release_month</th>\n",
              "      <th>profit</th>\n",
              "    </tr>\n",
              "  </thead>\n",
              "  <tbody>\n",
              "    <tr>\n",
              "      <th>count</th>\n",
              "      <td>4.800000e+03</td>\n",
              "      <td>4800.000000</td>\n",
              "      <td>4800.000000</td>\n",
              "      <td>4.800000e+03</td>\n",
              "      <td>4800.000000</td>\n",
              "      <td>4800.000000</td>\n",
              "      <td>4800.000000</td>\n",
              "      <td>4800.000000</td>\n",
              "      <td>4800.000000</td>\n",
              "      <td>4.800000e+03</td>\n",
              "    </tr>\n",
              "    <tr>\n",
              "      <th>mean</th>\n",
              "      <td>3.402478e+07</td>\n",
              "      <td>57198.137708</td>\n",
              "      <td>21.497780</td>\n",
              "      <td>8.229362e+07</td>\n",
              "      <td>107.588750</td>\n",
              "      <td>6.092083</td>\n",
              "      <td>690.491458</td>\n",
              "      <td>2002.468125</td>\n",
              "      <td>6.793958</td>\n",
              "      <td>4.826884e+07</td>\n",
              "    </tr>\n",
              "    <tr>\n",
              "      <th>std</th>\n",
              "      <td>3.820883e+07</td>\n",
              "      <td>88712.646793</td>\n",
              "      <td>31.824607</td>\n",
              "      <td>1.628993e+08</td>\n",
              "      <td>20.791567</td>\n",
              "      <td>1.194950</td>\n",
              "      <td>1234.911557</td>\n",
              "      <td>12.414417</td>\n",
              "      <td>3.425607</td>\n",
              "      <td>1.381342e+08</td>\n",
              "    </tr>\n",
              "    <tr>\n",
              "      <th>min</th>\n",
              "      <td>1.000000e+00</td>\n",
              "      <td>5.000000</td>\n",
              "      <td>0.000000</td>\n",
              "      <td>0.000000e+00</td>\n",
              "      <td>1.000000</td>\n",
              "      <td>0.000000</td>\n",
              "      <td>0.000000</td>\n",
              "      <td>1916.000000</td>\n",
              "      <td>1.000000</td>\n",
              "      <td>-1.657101e+08</td>\n",
              "    </tr>\n",
              "    <tr>\n",
              "      <th>25%</th>\n",
              "      <td>1.200000e+07</td>\n",
              "      <td>9019.750000</td>\n",
              "      <td>4.668490</td>\n",
              "      <td>0.000000e+00</td>\n",
              "      <td>94.000000</td>\n",
              "      <td>5.600000</td>\n",
              "      <td>54.000000</td>\n",
              "      <td>1999.000000</td>\n",
              "      <td>4.000000</td>\n",
              "      <td>-2.258784e+07</td>\n",
              "    </tr>\n",
              "    <tr>\n",
              "      <th>50%</th>\n",
              "      <td>2.300000e+07</td>\n",
              "      <td>14633.000000</td>\n",
              "      <td>12.924931</td>\n",
              "      <td>1.917498e+07</td>\n",
              "      <td>104.000000</td>\n",
              "      <td>6.200000</td>\n",
              "      <td>235.500000</td>\n",
              "      <td>2005.000000</td>\n",
              "      <td>7.000000</td>\n",
              "      <td>1.191444e+06</td>\n",
              "    </tr>\n",
              "    <tr>\n",
              "      <th>75%</th>\n",
              "      <td>4.000000e+07</td>\n",
              "      <td>58639.500000</td>\n",
              "      <td>28.350628</td>\n",
              "      <td>9.293886e+07</td>\n",
              "      <td>117.250000</td>\n",
              "      <td>6.800000</td>\n",
              "      <td>737.250000</td>\n",
              "      <td>2011.000000</td>\n",
              "      <td>10.000000</td>\n",
              "      <td>5.489446e+07</td>\n",
              "    </tr>\n",
              "    <tr>\n",
              "      <th>max</th>\n",
              "      <td>3.800000e+08</td>\n",
              "      <td>459488.000000</td>\n",
              "      <td>875.581305</td>\n",
              "      <td>2.787965e+09</td>\n",
              "      <td>338.000000</td>\n",
              "      <td>10.000000</td>\n",
              "      <td>13752.000000</td>\n",
              "      <td>2017.000000</td>\n",
              "      <td>12.000000</td>\n",
              "      <td>2.550965e+09</td>\n",
              "    </tr>\n",
              "  </tbody>\n",
              "</table>\n",
              "</div>\n",
              "      <button class=\"colab-df-convert\" onclick=\"convertToInteractive('df-35aa45ed-18a8-4804-b0ce-b6dd53c85804')\"\n",
              "              title=\"Convert this dataframe to an interactive table.\"\n",
              "              style=\"display:none;\">\n",
              "        \n",
              "  <svg xmlns=\"http://www.w3.org/2000/svg\" height=\"24px\"viewBox=\"0 0 24 24\"\n",
              "       width=\"24px\">\n",
              "    <path d=\"M0 0h24v24H0V0z\" fill=\"none\"/>\n",
              "    <path d=\"M18.56 5.44l.94 2.06.94-2.06 2.06-.94-2.06-.94-.94-2.06-.94 2.06-2.06.94zm-11 1L8.5 8.5l.94-2.06 2.06-.94-2.06-.94L8.5 2.5l-.94 2.06-2.06.94zm10 10l.94 2.06.94-2.06 2.06-.94-2.06-.94-.94-2.06-.94 2.06-2.06.94z\"/><path d=\"M17.41 7.96l-1.37-1.37c-.4-.4-.92-.59-1.43-.59-.52 0-1.04.2-1.43.59L10.3 9.45l-7.72 7.72c-.78.78-.78 2.05 0 2.83L4 21.41c.39.39.9.59 1.41.59.51 0 1.02-.2 1.41-.59l7.78-7.78 2.81-2.81c.8-.78.8-2.07 0-2.86zM5.41 20L4 18.59l7.72-7.72 1.47 1.35L5.41 20z\"/>\n",
              "  </svg>\n",
              "      </button>\n",
              "      \n",
              "  <style>\n",
              "    .colab-df-container {\n",
              "      display:flex;\n",
              "      flex-wrap:wrap;\n",
              "      gap: 12px;\n",
              "    }\n",
              "\n",
              "    .colab-df-convert {\n",
              "      background-color: #E8F0FE;\n",
              "      border: none;\n",
              "      border-radius: 50%;\n",
              "      cursor: pointer;\n",
              "      display: none;\n",
              "      fill: #1967D2;\n",
              "      height: 32px;\n",
              "      padding: 0 0 0 0;\n",
              "      width: 32px;\n",
              "    }\n",
              "\n",
              "    .colab-df-convert:hover {\n",
              "      background-color: #E2EBFA;\n",
              "      box-shadow: 0px 1px 2px rgba(60, 64, 67, 0.3), 0px 1px 3px 1px rgba(60, 64, 67, 0.15);\n",
              "      fill: #174EA6;\n",
              "    }\n",
              "\n",
              "    [theme=dark] .colab-df-convert {\n",
              "      background-color: #3B4455;\n",
              "      fill: #D2E3FC;\n",
              "    }\n",
              "\n",
              "    [theme=dark] .colab-df-convert:hover {\n",
              "      background-color: #434B5C;\n",
              "      box-shadow: 0px 1px 3px 1px rgba(0, 0, 0, 0.15);\n",
              "      filter: drop-shadow(0px 1px 2px rgba(0, 0, 0, 0.3));\n",
              "      fill: #FFFFFF;\n",
              "    }\n",
              "  </style>\n",
              "\n",
              "      <script>\n",
              "        const buttonEl =\n",
              "          document.querySelector('#df-35aa45ed-18a8-4804-b0ce-b6dd53c85804 button.colab-df-convert');\n",
              "        buttonEl.style.display =\n",
              "          google.colab.kernel.accessAllowed ? 'block' : 'none';\n",
              "\n",
              "        async function convertToInteractive(key) {\n",
              "          const element = document.querySelector('#df-35aa45ed-18a8-4804-b0ce-b6dd53c85804');\n",
              "          const dataTable =\n",
              "            await google.colab.kernel.invokeFunction('convertToInteractive',\n",
              "                                                     [key], {});\n",
              "          if (!dataTable) return;\n",
              "\n",
              "          const docLinkHtml = 'Like what you see? Visit the ' +\n",
              "            '<a target=\"_blank\" href=https://colab.research.google.com/notebooks/data_table.ipynb>data table notebook</a>'\n",
              "            + ' to learn more about interactive tables.';\n",
              "          element.innerHTML = '';\n",
              "          dataTable['output_type'] = 'display_data';\n",
              "          await google.colab.output.renderOutput(dataTable, element);\n",
              "          const docLink = document.createElement('div');\n",
              "          docLink.innerHTML = docLinkHtml;\n",
              "          element.appendChild(docLink);\n",
              "        }\n",
              "      </script>\n",
              "    </div>\n",
              "  </div>\n",
              "  "
            ]
          },
          "metadata": {},
          "execution_count": 1134
        }
      ]
    },
    {
      "cell_type": "markdown",
      "source": [
        "#**SUMMARY**\n",
        "\n",
        "The code gives us the prediction of a movie's success rate by training a linear regression model on a dataset, which includes factors like **budget, popularity, vote average, and vote count**.The model is trained by dividing the dataset into the testing and training sets and learning the connections between the input features and the target variable (**revenue**).\n",
        "Hence, the code **can be used to estimate the success rate of new movies** based on their features by training a linear regression model.\n",
        "\n",
        "With an accuracy score of **0.7596080016414595**\n",
        "for our model, it indicates that the model is performing moderately well in predicting the target variable based on the available features. Here are some analysis points we can draw from this result.The accuracy score suggests that the model is able to make correct **predictions for approximately 75.96%** of the instances. While this is a decent performance, there is room for improvement.\n",
        "\n",
        "The moderate accuracy score indicates that there might be some relationships between the input features and the target variable.  However, **there could be other relevant features not considered in the model that may contribute to improving its performance.** Exploring additional features that capture important information related to the target variable might enhance the model's accuracy.\n",
        "\n",
        "Based on this analysis, there is scope for further refinement of the model. Considering additional relevant features, exploring non-linear regression techniques, and **evaluating the dataset for data quality issues** can help improve the model's performance and provide more accurate predictions."
      ],
      "metadata": {
        "id": "zS5LBXjBLBPc"
      }
    }
  ]
}